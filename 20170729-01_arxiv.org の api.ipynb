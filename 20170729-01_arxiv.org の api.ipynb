{
 "cells": [
  {
   "cell_type": "code",
   "execution_count": null,
   "metadata": {
    "collapsed": true
   },
   "outputs": [],
   "source": [
    "\"\"\"\n",
    "arxiv.org の api 呼び出し例\n",
    "\"\"\"\n",
    "pass"
   ]
  },
  {
   "cell_type": "code",
   "execution_count": 5,
   "metadata": {},
   "outputs": [
    {
     "name": "stdout",
     "output_type": "stream",
     "text": [
      "previousday: 2017-07-27\n",
      "url: http://export.arxiv.org/api/query?search_query=submittedDate:[201707271400+TO+201707281400]+AND+(cat:astro-ph.EP)&start=0&sortBy=submittedDate&sortOrder=ascending\n",
      "data: <?xml version=\"1.0\" encoding=\"UTF-8\"?>\n",
      "<feed xmlns=\"http://www.w3.org/2005/Atom\">\n",
      "  <link href=\"http://arxiv.org/api/query?search_query%3DsubmittedDate%3A%5B201707271400%20TO%20201707281400%5D%20AND%20%28cat%3Aastro-ph.EP%29%26id_list%3D%26start%3D0%26max_results%3D10\" rel=\"self\" type=\"application/atom+xml\"/>\n",
      "  <title type=\"html\">ArXiv Query: search_query=submittedDate:[201707271400 TO 201707281400] AND (cat:astro-ph.EP)&amp;id_list=&amp;start=0&amp;max_results=10</title>\n",
      "  <id>http://arxiv.org/api/PjVqgwq457hlzjJ/lg6Q0Boe/qQ</id>\n",
      "  <updated>2017-07-28T00:00:00-04:00</updated>\n",
      "  <opensearch:totalResults xmlns:opensearch=\"http://a9.com/-/spec/opensearch/1.1/\">0</opensearch:totalResults>\n",
      "  <opensearch:startIndex xmlns:opensearch=\"http://a9.com/-/spec/opensearch/1.1/\">0</opensearch:startIndex>\n",
      "  <opensearch:itemsPerPage xmlns:opensearch=\"http://a9.com/-/spec/opensearch/1.1/\">10</opensearch:itemsPerPage>\n",
      "</feed>\n",
      "\n",
      "entries: []\n"
     ]
    }
   ],
   "source": [
    "import urllib.request\n",
    "import datetime as dt\n",
    "import re\n",
    "\n",
    "\n",
    "def main():\n",
    "    baseday = dt.date.today()+dt.timedelta(days=-1)\n",
    "    previousday = baseday +dt.timedelta(days=-1)\n",
    "    print(\"previousday:\", previousday)\n",
    "\n",
    "    url_q = 'http://export.arxiv.org/api/query?search_query=submittedDate:['+previousday.strftime('%Y%m%d')+'1400+TO+'+baseday.strftime('%Y%m%d')+'1400]+AND+(cat:astro-ph.EP)&start=0&sortBy=submittedDate&sortOrder=ascending'\n",
    "    print(\"url:\", url_q)\n",
    "    data = urllib.request.urlopen(url_q).read().decode('utf-8')\n",
    "    print(\"data:\", data)\n",
    "    #\n",
    "    parse = lambda a,b: re.findall(\"<\" + b + \">([\\s\\S]*?)<\\/\" + b + \">\", a)\n",
    "    #\n",
    "    entries = parse(str(data), \"entry\")\n",
    "    print(\"entries:\", entries)\n",
    "    for entry in entries:\n",
    "        url = parse(entry, \"id\")[0]\n",
    "        title = parse(entry, \"title\")[0]\n",
    "        author = ', '.join(parse(entry, \"name\") )\n",
    "        summary = parse(entry, \"summary\")[0]\n",
    "        print( '%s\\n%s\\n%s\\n%s' % (url, title, author, summary) )\n",
    "\n",
    "\n",
    "main()"
   ]
  },
  {
   "cell_type": "code",
   "execution_count": null,
   "metadata": {
    "collapsed": true
   },
   "outputs": [],
   "source": []
  }
 ],
 "metadata": {
  "kernelspec": {
   "display_name": "Python 3",
   "language": "python",
   "name": "python3"
  },
  "language_info": {
   "codemirror_mode": {
    "name": "ipython",
    "version": 3
   },
   "file_extension": ".py",
   "mimetype": "text/x-python",
   "name": "python",
   "nbconvert_exporter": "python",
   "pygments_lexer": "ipython3",
   "version": "3.6.1"
  }
 },
 "nbformat": 4,
 "nbformat_minor": 2
}
