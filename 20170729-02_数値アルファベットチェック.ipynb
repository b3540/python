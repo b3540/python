{
 "cells": [
  {
   "cell_type": "code",
   "execution_count": 1,
   "metadata": {
    "collapsed": true
   },
   "outputs": [],
   "source": [
    "\"\"\"\n",
    "特定の文字列に以下の確認をする。\n",
    "・数値が１つでも入っているか\n",
    "・alphabetが１つでも入っているか\n",
    "\n",
    "sum(), map(), str.isalphaの使用\n",
    "\n",
    "\"\"\"\n",
    "pass"
   ]
  },
  {
   "cell_type": "code",
   "execution_count": 2,
   "metadata": {},
   "outputs": [
    {
     "name": "stdout",
     "output_type": "stream",
     "text": [
      "---- example1 ---: 1234b\n",
      "checkalpha: ['b']\n",
      "checkdigit: ['1', '2', '3', '4']\n",
      "---- example2 ---: 12345\n",
      "checkalpha: []\n",
      "checkdigit: ['1', '2', '3', '4', '5']\n",
      "no alphabet\n"
     ]
    }
   ],
   "source": [
    "checkalpha = lambda t:[e for e in t if e.isalpha()]\n",
    "checkdigit = lambda t:[e for e in t if e.isdigit()]\n",
    "\n",
    "atxt = '1234b'\n",
    "print(\"---- example1 ---:\", atxt)\n",
    "print(\"checkalpha:\", checkalpha(atxt))\n",
    "print(\"checkdigit:\", checkdigit(atxt))\n",
    "\n",
    "btxt = '12345'\n",
    "print(\"---- example2 ---:\", btxt)\n",
    "print(\"checkalpha:\", checkalpha(btxt))\n",
    "print(\"checkdigit:\", checkdigit(btxt))\n",
    "if len(checkalpha(btxt)) == 0:\n",
    "    print(\"no alphabet\")"
   ]
  },
  {
   "cell_type": "code",
   "execution_count": 3,
   "metadata": {},
   "outputs": [
    {
     "name": "stdout",
     "output_type": "stream",
     "text": [
      "---- example1 ---: 1234b\n",
      "numalpha: 1\n",
      "numdigit: 4\n",
      "---- example2 ---: 12345\n",
      "numalpha: 0\n",
      "numdigit: 5\n",
      "no alphabet\n"
     ]
    }
   ],
   "source": [
    "# len()をlambda式に入れた。\n",
    "\n",
    "numalpha = lambda t:len([e for e in t if e.isalpha()])\n",
    "numdigit = lambda t:len([e for e in t if e.isdigit()])\n",
    "\n",
    "atxt = '1234b'\n",
    "print(\"---- example1 ---:\", atxt)\n",
    "print(\"numalpha:\", numalpha(atxt))\n",
    "print(\"numdigit:\", numdigit(atxt))\n",
    "\n",
    "btxt = '12345'\n",
    "print(\"---- example2 ---:\", btxt)\n",
    "print(\"numalpha:\", numalpha(btxt))\n",
    "print(\"numdigit:\", numdigit(btxt))\n",
    "if numalpha(btxt) == 0:\n",
    "    print(\"no alphabet\")"
   ]
  },
  {
   "cell_type": "code",
   "execution_count": 4,
   "metadata": {},
   "outputs": [
    {
     "name": "stdout",
     "output_type": "stream",
     "text": [
      "===1234b===\n",
      "lower:1, upper:0, digit:4\n",
      "no upper case letters\n",
      "===12345===\n",
      "lower:0, upper:0, digit:5\n",
      "no lower case letters\n",
      "no upper case letters\n"
     ]
    }
   ],
   "source": [
    "# Upper, lower case letterのチェック\n",
    "\n",
    "numlower = lambda t:len([e for e in t if e.islower()])\n",
    "numupper = lambda t:len([e for e in t if e.isupper()])\n",
    "numdigit = lambda t:len([e for e in t if e.isdigit()])\n",
    "\n",
    "\n",
    "def checkfunc(txt):\n",
    "    print(\"===%s===\" % txt)\n",
    "    print(\"lower:%d, upper:%d, digit:%d\" % \n",
    "          (numlower(txt), numupper(txt), numdigit(txt)))\n",
    "    if numlower(txt) == 0:\n",
    "        print(\"no lower case letters\")\n",
    "    if numupper(txt) == 0:\n",
    "        print(\"no upper case letters\")  \n",
    "    if numdigit(txt) == 0:\n",
    "        print(\"no digits\")\n",
    "\n",
    "atxt = '1234b'\n",
    "checkfunc(atxt)\n",
    "btxt = '12345'\n",
    "checkfunc(btxt)\n"
   ]
  },
  {
   "cell_type": "code",
   "execution_count": 5,
   "metadata": {
    "scrolled": true
   },
   "outputs": [
    {
     "name": "stdout",
     "output_type": "stream",
     "text": [
      "===1234b===\n",
      "lower:1, upper:0, digit:4\n",
      "no upper case letters\n",
      "===12345===\n",
      "lower:0, upper:0, digit:5\n",
      "no lower case letters\n",
      "no upper case letters\n"
     ]
    }
   ],
   "source": [
    "numlower = lambda s:sum(map(str.islower, s))\n",
    "numupper = lambda s:sum(map(str.isupper, s))\n",
    "numdigit = lambda s:sum(map(str.isdigit, s))\n",
    "\n",
    "\n",
    "def checkfunc(txt):\n",
    "    print(\"===%s===\" % txt)\n",
    "    print(\"lower:%d, upper:%d, digit:%d\" % \n",
    "          (numlower(txt), numupper(txt), numdigit(txt)))\n",
    "    if numlower(txt) == 0:\n",
    "        print(\"no lower case letters\")\n",
    "    if numupper(txt) == 0:\n",
    "        print(\"no upper case letters\")  \n",
    "    if numdigit(txt) == 0:\n",
    "        print(\"no digits\")\n",
    "\n",
    "atxt = '1234b'\n",
    "checkfunc(atxt)\n",
    "btxt = '12345'\n",
    "checkfunc(btxt)"
   ]
  },
  {
   "cell_type": "code",
   "execution_count": 6,
   "metadata": {
    "collapsed": true
   },
   "outputs": [],
   "source": [
    "\"\"\"\n",
    "参考 > map()\n",
    "https://docs.python.jp/3/library/functions.html#map\n",
    "\"\"\"\n",
    "pass"
   ]
  }
 ],
 "metadata": {
  "kernelspec": {
   "display_name": "Python 3",
   "language": "python",
   "name": "python3"
  },
  "language_info": {
   "codemirror_mode": {
    "name": "ipython",
    "version": 3
   },
   "file_extension": ".py",
   "mimetype": "text/x-python",
   "name": "python",
   "nbconvert_exporter": "python",
   "pygments_lexer": "ipython3",
   "version": "3.6.1"
  }
 },
 "nbformat": 4,
 "nbformat_minor": 2
}
