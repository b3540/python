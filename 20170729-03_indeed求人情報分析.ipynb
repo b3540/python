{
 "cells": [
  {
   "cell_type": "code",
   "execution_count": 1,
   "metadata": {},
   "outputs": [],
   "source": [
    "\"\"\"\n",
    "indeed.comから指定条件の求人の平均給与を取得する\n",
    "\"\"\"\n",
    "pass"
   ]
  },
  {
   "cell_type": "code",
   "execution_count": 2,
   "metadata": {},
   "outputs": [],
   "source": [
    "import urllib.request, urllib.parse\n",
    "from bs4 import BeautifulSoup\n",
    "import re, getopt, sys\n",
    "import numpy as np\n",
    "\n",
    "\n",
    "def avgsalary(query, location):\n",
    "    query = urllib.parse.quote_plus(query)\n",
    "    location = urllib.parse.quote_plus(location)\n",
    "    url = \"https://jp.indeed.com/%E6%B1%82%E4%BA%BA?q={}&l={}&radius=0\".format(query, location)\n",
    "\n",
    "    request = urllib.request.urlopen(url);\n",
    "    soup = BeautifulSoup(request.read(), 'html.parser')\n",
    "    result = soup.find(id=\"SALARY_rbo\")\n",
    "    results = result.find_all(\"li\")\n",
    "    salaries = []\n",
    "    num_salaries = []\n",
    "    for result in results:\n",
    "        tmp  = result.a[\"title\"]\n",
    "        tmp = re.sub(',','', tmp)\n",
    "        tmp = re.sub(r'([0-9]+)[^\\d]+([0-9]+).*$', r'\\1,\\2', tmp);\n",
    "        tmp = tmp.split(\",\")\n",
    "        salaries.append(tmp[0])\n",
    "        num_salaries.append(tmp[1])\n",
    "    salaries = np.array(salaries).astype(np.float)\n",
    "    salaries *= 10000\n",
    "    num_salaries = np.array(num_salaries).astype(np.float)\n",
    "    return(np.sum(salaries * num_salaries)/np.sum(num_salaries))\n"
   ]
  },
  {
   "cell_type": "code",
   "execution_count": 3,
   "metadata": {},
   "outputs": [
    {
     "data": {
      "text/plain": [
       "4479820.6278026905"
      ]
     },
     "execution_count": 3,
     "metadata": {},
     "output_type": "execute_result"
    }
   ],
   "source": [
    "query = \"programmer\"\n",
    "location = \"\"\n",
    "avgsalary(query, location)"
   ]
  },
  {
   "cell_type": "code",
   "execution_count": 4,
   "metadata": {},
   "outputs": [
    {
     "data": {
      "text/plain": [
       "3105576.2590174023"
      ]
     },
     "execution_count": 4,
     "metadata": {},
     "output_type": "execute_result"
    }
   ],
   "source": [
    "query = \"プログラマ\"\n",
    "location = \"\"\n",
    "avgsalary(query, location)"
   ]
  },
  {
   "cell_type": "code",
   "execution_count": 5,
   "metadata": {
    "collapsed": true
   },
   "outputs": [],
   "source": [
    "\"\"\"\n",
    "この比較は、概ね「英語求人」と「日本語求人」の年収の違いを意味している。\n",
    "英語求人のほうが100万以上も年収が高いことを考えると英語がいかに\n",
    "重要かがわかる。\n",
    "\"\"\"\n",
    "pass"
   ]
  }
 ],
 "metadata": {
  "kernelspec": {
   "display_name": "Python 3",
   "language": "python",
   "name": "python3"
  },
  "language_info": {
   "codemirror_mode": {
    "name": "ipython",
    "version": 3
   },
   "file_extension": ".py",
   "mimetype": "text/x-python",
   "name": "python",
   "nbconvert_exporter": "python",
   "pygments_lexer": "ipython3",
   "version": "3.6.1"
  }
 },
 "nbformat": 4,
 "nbformat_minor": 2
}
