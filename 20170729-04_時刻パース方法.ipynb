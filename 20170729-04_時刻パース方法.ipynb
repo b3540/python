{
 "cells": [
  {
   "cell_type": "code",
   "execution_count": 1,
   "metadata": {
    "collapsed": true
   },
   "outputs": [],
   "source": [
    "\"\"\"\n",
    "テキストで書かれた時刻をpythonのdatetime型にパースする\n",
    "際の方法についての備忘録\n",
    "\n",
    "今回のパース対象の文字列\n",
    "2017-07-27T19:33:11\n",
    "\"\"\"\n",
    "pass"
   ]
  },
  {
   "cell_type": "code",
   "execution_count": 2,
   "metadata": {},
   "outputs": [
    {
     "name": "stdout",
     "output_type": "stream",
     "text": [
      "parse()       takes 10.7888sec, dt1:2017-07-27 19:33:11\n",
      "strptime()    takes 1.5551sec, dt2:2017-07-27 19:33:11\n",
      "cut and parse takes 0.4527sec, dt3:2017-07-27 19:33:11\n",
      "比較結果 parse: 23.831332 3.434968 1.000000\n"
     ]
    }
   ],
   "source": [
    "import time\n",
    "from datetime import datetime\n",
    "from dateutil.parser import parse\n",
    "\n",
    "start = time.time()\n",
    "date=\"2017-07-27T19:33:11\" #パース対象の文字列\n",
    "for i in range(100000): #parse()で10万回パースするループ\n",
    "    dt1 = parse(date)\n",
    "elapsed_time_for_parse = time.time() - start #parse()でパースした場合の経過時間を格納\n",
    "\n",
    "start = time.time()\n",
    "for i in range(100000): #strptime()で10万回パースするループ\n",
    "    dt2 = datetime.strptime(date, '%Y-%m-%dT%H:%M:%S')\n",
    "elapsed_time_for_strptime = time.time() - start #strptime()でパースした場合の経過時間を格納\n",
    "\n",
    "start = time.time()   \n",
    "for i in range(100000): #文字列切出で10万回パースするループ\n",
    "    dt3 = datetime(\n",
    "        year=int(date[0:4]),month=int(date[5:7]),day=int(date[8:10]),\n",
    "        hour=int(date[11:13]),minute=int(date[14:16]),second=int(date[17:20])\n",
    "    )\n",
    "elapsed_time_for_cutparse = time.time() - start #文字列切出でパースした場合の経過時間を格納\n",
    "\n",
    "print('parse()       takes {:.4f}sec, dt1:{}'.format(elapsed_time_for_parse,dt1))\n",
    "print('strptime()    takes {:.4f}sec, dt2:{}'.format(elapsed_time_for_strptime,dt2))\n",
    "print('cut and parse takes {:.4f}sec, dt3:{}'.format(elapsed_time_for_cutparse,dt3))\n",
    "\n",
    "print(\"比較結果 parse: %5f %5f %5f\" % (elapsed_time_for_parse/elapsed_time_for_cutparse,\n",
    "                                  elapsed_time_for_strptime/elapsed_time_for_cutparse, 1))"
   ]
  },
  {
   "cell_type": "code",
   "execution_count": 3,
   "metadata": {
    "collapsed": true
   },
   "outputs": [],
   "source": [
    "\"\"\"\n",
    "結果と考察\n",
    "※所要時間は筆者の上記環境で10万回ループを実行した時間\n",
    "手元の環境で計測した結果\n",
    "\n",
    "【結果】\n",
    "　　方法　　　　　　　　　　　　所要時間\n",
    "　　parse()　　　　　　　10.7888\n",
    "　　strptime()　　1.5551\n",
    "　　文字列切出　　0.4527\n",
    "\n",
    "【考察】\n",
    "parse()が一発で楽だけど遅い ->約２４倍遅い\n",
    "文字列切出が手間多いが速い。\n",
    "\"\"\"\n",
    "pass"
   ]
  },
  {
   "cell_type": "code",
   "execution_count": null,
   "metadata": {
    "collapsed": true
   },
   "outputs": [],
   "source": []
  }
 ],
 "metadata": {
  "kernelspec": {
   "display_name": "Python 3",
   "language": "python",
   "name": "python3"
  },
  "language_info": {
   "codemirror_mode": {
    "name": "ipython",
    "version": 3
   },
   "file_extension": ".py",
   "mimetype": "text/x-python",
   "name": "python",
   "nbconvert_exporter": "python",
   "pygments_lexer": "ipython3",
   "version": "3.6.1"
  }
 },
 "nbformat": 4,
 "nbformat_minor": 2
}
