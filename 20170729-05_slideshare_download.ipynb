{
 "cells": [
  {
   "cell_type": "code",
   "execution_count": 1,
   "metadata": {
    "collapsed": true
   },
   "outputs": [],
   "source": [
    "\"\"\"\n",
    "slideshare のファイルを pdf 抽出ダウンロード\n",
    "\n",
    "requirements\n",
    "# pip install img2pdf\n",
    "# pip install beautifulsoup\n",
    "\"\"\"\n",
    "pass"
   ]
  },
  {
   "cell_type": "code",
   "execution_count": 2,
   "metadata": {
    "collapsed": true
   },
   "outputs": [],
   "source": [
    "import os\n",
    "import img2pdf\n",
    "from os import listdir, walk\n",
    "from os.path import isfile, join\n",
    "import shutil\n",
    "import urllib.request\n",
    "from bs4 import BeautifulSoup \n",
    "\n",
    "def download_images(url, out_path, dir_work=\"/tmp\"):\n",
    "    # 作業ディレクトリを一旦クリア\n",
    "    if os.path.exists(dir_work):\n",
    "        shutil.rmtree(dir_work)\n",
    "    os.makedirs(dir_work)\n",
    "    \n",
    "    html = urllib.request.urlopen(url)\n",
    "    soup = BeautifulSoup(html, \"html.parser\")\n",
    "    title = 'pdf_images' #soup.title.string\n",
    "    images = soup.findAll('img', {'class':'slide_image'})\n",
    "    print(\"ダウンロード中:\", url)\n",
    "    filenames = []\n",
    "    for image in images:\n",
    "        image_url = image.get('data-full').split('?')[0]\n",
    "        command = 'wget %s -P %s' % (image_url, join(dir_work, title))\n",
    "        #print(\"command:\", command)\n",
    "        os.system(command)\n",
    "        \n",
    "        filenames.append(os.path.basename(image_url))\n",
    "    \n",
    "    print(\"ダウンロード完了\")\n",
    "\n",
    "    convert_pdf(out_path, join(dir_work, title), filenames)\n",
    "    # 作業ディレクトリは削除\n",
    "    shutil.rmtree(join(dir_work, title))\n",
    "\n",
    "def convert_pdf(out_path, dir_path, filenames):\n",
    "    print(\"pdf コンバート中\")\n",
    "    f = [\"%s/%s\" % (dir_path, x) for x in filenames]\n",
    "\n",
    "    pdf_bytes = img2pdf.convert(f, dpi=300, x=None, y=None)\n",
    "    doc = open(out_path, 'wb')\n",
    "    doc.write(pdf_bytes)\n",
    "    doc.close()\n",
    "    print(\"pdf コンバート完了\")\n"
   ]
  },
  {
   "cell_type": "code",
   "execution_count": 3,
   "metadata": {
    "scrolled": true
   },
   "outputs": [
    {
     "name": "stdout",
     "output_type": "stream",
     "text": [
      "Slideshare URL : https://www.slideshare.net/ssusere55c63/variational-autoencoder-64515581?qid=e8e30874-e0a4-42d4-9422-cfd574f5730e&v=&b=&from_search=1\n",
      "ダウンロード中: https://www.slideshare.net/ssusere55c63/variational-autoencoder-64515581?qid=e8e30874-e0a4-42d4-9422-cfd574f5730e&v=&b=&from_search=1\n",
      "ダウンロード完了\n",
      "pdf コンバート中\n",
      "pdf コンバート完了\n"
     ]
    }
   ],
   "source": [
    "# 作業用のディレクトリ　　一旦ファイルをダウンロードする先\n",
    "DIR_WORK = \"/exdisk/workspace/20170729-04\"\n",
    "# ダウンロードしたファイルを結合して pdf を出力するパス\n",
    "OUT_PATH = \"/var/www/html/notedoc/result.pdf\"\n",
    "# 出力先を html でアクセスする際の URL\n",
    "URL_LINK = \"http://spark01.nel-t.net/notedoc/result.pdf\"\n",
    "\n",
    "#  抽出対象の slideshare のURL\n",
    "url = input('Slideshare URL : ')\n",
    "download_images(url, OUT_PATH, dir_work=DIR_WORK)"
   ]
  },
  {
   "cell_type": "code",
   "execution_count": 4,
   "metadata": {},
   "outputs": [
    {
     "data": {
      "text/html": [
       "<a href=\"http://spark01.nel-t.net/notedoc/result.pdf\" target=new>extracted pdf </a>"
      ],
      "text/plain": [
       "<IPython.core.display.HTML object>"
      ]
     },
     "metadata": {},
     "output_type": "display_data"
    }
   ],
   "source": [
    "from IPython.core.display import display, HTML\n",
    "display(HTML('<a href=\"' + URL_LINK + '\" target=new>extracted pdf </a>'))"
   ]
  },
  {
   "cell_type": "code",
   "execution_count": null,
   "metadata": {
    "collapsed": true
   },
   "outputs": [],
   "source": []
  }
 ],
 "metadata": {
  "kernelspec": {
   "display_name": "Python 3",
   "language": "python",
   "name": "python3"
  },
  "language_info": {
   "codemirror_mode": {
    "name": "ipython",
    "version": 3
   },
   "file_extension": ".py",
   "mimetype": "text/x-python",
   "name": "python",
   "nbconvert_exporter": "python",
   "pygments_lexer": "ipython3",
   "version": "3.6.1"
  }
 },
 "nbformat": 4,
 "nbformat_minor": 2
}
