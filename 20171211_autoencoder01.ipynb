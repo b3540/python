{
 "cells": [
  {
   "cell_type": "markdown",
   "metadata": {},
   "source": [
    "# Autoencoder その1"
   ]
  },
  {
   "cell_type": "markdown",
   "metadata": {},
   "source": [
    "## 1. Autoencoder とは"
   ]
  },
  {
   "cell_type": "markdown",
   "metadata": {},
   "source": [
    "### 1-1. オートエンコーダ概要"
   ]
  },
  {
   "cell_type": "markdown",
   "metadata": {},
   "source": [
    "オートエンコーダ（自己符号化器、英: autoencoder）とは、ニューラルネットワークを使用した<br>\n",
    "次元圧縮のためのアルゴリズム。\n",
    "\n",
    "2006年にジェフリー・ヒントンらが提案した。<br>\n",
    "線形の次元圧縮としては主成分分析があるが、オートエンコーダはニューラルネットワークを使用する。\n",
    "\n",
    "オートエンコーダは3層ニューラルネットにおいて、入力層と出力層に同じデータを用いて<br>\n",
    "教師あり学習させたもの。<br>\n",
    "<img src=\"https://upload.wikimedia.org/wikipedia/commons/0/06/AutoEncoder.png\">\n",
    "\n",
    "圧縮していく過程をエンコーダと呼び、復元する過程をデコーダと呼びます。<br>\n",
    "エンコーダは入力を低次元に表現することができ、デコーダは低次元から復元する能力を持ちます。\n",
    "\n",
    "オートエンコーダは<b>順伝播型</b>ニューラルネットワーク（feedforward neural network）です。<br>\n",
    "順伝播型ニューラルネットワークは再帰的ニューラルネットワークのようにループしたり<br>\n",
    "しないもののことです。"
   ]
  },
  {
   "cell_type": "markdown",
   "metadata": {},
   "source": [
    "### 1-2. オートエンコーダは大成功だったか\n",
    "\n",
    "深層学習ライブラリKerasのオートエンコーダのチュートリアル<br>\n",
    "https://blog.keras.io/building-autoencoders-in-keras.html\n",
    "\n",
    "によると、今では実用的な用途としてはめったに使われてないと書かれています。<br>\n",
    "オートエンコーダは画像のノイズ除去や可視化程度でしか利用目的がないとされています。\n",
    "\n",
    "実は、その後ディープラーニングのアルゴリズムは改良を重ね、事前学習をせずに<br>\n",
    "ランダム値を採用しても十分な精度が出るようになったからです。\n",
    "\n",
    "さらに、オートエンコーダの研究は進み、生成モデルで活用され初めて復活しているようです。<br>\n",
    "ここではここではオートエンコーダのファーストステップについてまとめてみました。"
   ]
  },
  {
   "cell_type": "markdown",
   "metadata": {},
   "source": [
    "まずは、以下について整理します。\n",
    "\n",
    "1. Undercomplete Autoencoder\n",
    "2. Sparse Autoencoder\n",
    "3. Deep Autoencoder\n",
    "4. Convolutional Autoencoder"
   ]
  },
  {
   "cell_type": "markdown",
   "metadata": {},
   "source": [
    "## 2. Undercomplete Autoencoder"
   ]
  },
  {
   "cell_type": "markdown",
   "metadata": {},
   "source": [
    "エンコードされたデータ（コードと呼ばれる）の次元数を入力の次元数よりも<br>\n",
    "小さくしてしまうと、単純に値をコピーするだけではうまく入力を再現することができず、<br>\n",
    "重要な特徴を抽出することが強制されます。\n",
    "\n",
    "このように、コードの次元が入力の次元よりも小さくなるようなものを<br>\n",
    "<b>Undercomplete Autoencoder</b>と呼びます。"
   ]
  },
  {
   "cell_type": "markdown",
   "metadata": {},
   "source": [
    "### 2-1. データ読み込み"
   ]
  },
  {
   "cell_type": "code",
   "execution_count": 1,
   "metadata": {},
   "outputs": [
    {
     "name": "stderr",
     "output_type": "stream",
     "text": [
      "Using TensorFlow backend.\n"
     ]
    }
   ],
   "source": [
    "from keras.datasets import mnist\n",
    "import numpy as np\n",
    "\n",
    "(x_train, _), (x_test, _) = mnist.load_data()\n",
    "x_train = x_train.astype('float32') / 255.\n",
    "x_test = x_test.astype('float32') / 255.\n",
    "x_train = x_train.reshape((len(x_train), np.prod(x_train.shape[1:])))\n",
    "x_test = x_test.reshape((len(x_test), np.prod(x_test.shape[1:])))\n",
    "\n",
    "DIR_WORK = \"./03_autoencoder/\""
   ]
  },
  {
   "cell_type": "markdown",
   "metadata": {},
   "source": [
    "### 2-2. model 生成"
   ]
  },
  {
   "cell_type": "code",
   "execution_count": 2,
   "metadata": {},
   "outputs": [],
   "source": [
    "from keras.layers import Input, Dense\n",
    "from keras.models import Model\n",
    "from keras.datasets import mnist\n",
    "import numpy as np\n",
    "\n",
    "encoding_dim = 32\n",
    "input_img = Input(shape=(784,))\n",
    "encoded = Dense(encoding_dim, activation='relu')(input_img)\n",
    "decoded = Dense(784, activation='sigmoid')(encoded)\n",
    "autoencoder = Model(inputs=input_img, outputs=decoded)\n",
    "\n",
    "autoencoder.compile(optimizer='adadelta', loss='binary_crossentropy')"
   ]
  },
  {
   "cell_type": "markdown",
   "metadata": {},
   "source": [
    "入力と出力は784次元で、中間層は32次元になっています。<br>\n",
    "エンコーダとデコーダで重みを共有する場合がありますが、<br>\n",
    "ここではそれぞれ別の重みを使用しています。\n",
    "\n",
    "Modelを使うよりも、Sequentialに慣れている人が多いかと思いますが、<br>\n",
    "encodedのような変数を後から利用できるように、今回はこのような実装方法で進めていきます。<br>\n",
    "Sequentialで実装することも可能です。\n",
    "\n",
    "オプティマイザにはAdadelta、<br>\n",
    "損失関数にはバイナリエントロピー（binary cross-entropy）を使用しています。<br>\n",
    "下記のように画像データは0から1の値を取るように規格化していて、<br>\n",
    "出力も0から1になるように出力層の活性化関数にはシグモイドを適用しています。\n",
    "\n"
   ]
  },
  {
   "cell_type": "markdown",
   "metadata": {},
   "source": [
    "### 2-3. フィッティング"
   ]
  },
  {
   "cell_type": "code",
   "execution_count": 3,
   "metadata": {
    "scrolled": false
   },
   "outputs": [
    {
     "name": "stdout",
     "output_type": "stream",
     "text": [
      "Train on 60000 samples, validate on 10000 samples\n",
      "Epoch 1/50\n",
      "60000/60000 [==============================] - 5s - loss: 0.3797 - val_loss: 0.2734\n",
      "Epoch 2/50\n",
      "60000/60000 [==============================] - 5s - loss: 0.2668 - val_loss: 0.2570\n",
      "Epoch 3/50\n",
      "60000/60000 [==============================] - 5s - loss: 0.2469 - val_loss: 0.2340\n",
      "Epoch 4/50\n",
      "60000/60000 [==============================] - 6s - loss: 0.2257 - val_loss: 0.2154\n",
      "Epoch 5/50\n",
      "60000/60000 [==============================] - 5s - loss: 0.2102 - val_loss: 0.2026\n",
      "Epoch 6/50\n",
      "60000/60000 [==============================] - 5s - loss: 0.1993 - val_loss: 0.1934\n",
      "Epoch 7/50\n",
      "60000/60000 [==============================] - 6s - loss: 0.1913 - val_loss: 0.1863\n",
      "Epoch 8/50\n",
      "60000/60000 [==============================] - 6s - loss: 0.1846 - val_loss: 0.1803\n",
      "Epoch 9/50\n",
      "60000/60000 [==============================] - 5s - loss: 0.1788 - val_loss: 0.1747\n",
      "Epoch 10/50\n",
      "60000/60000 [==============================] - 6s - loss: 0.1737 - val_loss: 0.1698\n",
      "Epoch 11/50\n",
      "60000/60000 [==============================] - 6s - loss: 0.1690 - val_loss: 0.1656\n",
      "Epoch 12/50\n",
      "60000/60000 [==============================] - 6s - loss: 0.1648 - val_loss: 0.1615\n",
      "Epoch 13/50\n",
      "60000/60000 [==============================] - 6s - loss: 0.1610 - val_loss: 0.1578\n",
      "Epoch 14/50\n",
      "60000/60000 [==============================] - 6s - loss: 0.1575 - val_loss: 0.1545\n",
      "Epoch 15/50\n",
      "60000/60000 [==============================] - 6s - loss: 0.1543 - val_loss: 0.1514\n",
      "Epoch 16/50\n",
      "60000/60000 [==============================] - 6s - loss: 0.1513 - val_loss: 0.1486\n",
      "Epoch 17/50\n",
      "60000/60000 [==============================] - 5s - loss: 0.1485 - val_loss: 0.1458\n",
      "Epoch 18/50\n",
      "60000/60000 [==============================] - 5s - loss: 0.1459 - val_loss: 0.1435\n",
      "Epoch 19/50\n",
      "60000/60000 [==============================] - 5s - loss: 0.1435 - val_loss: 0.1410\n",
      "Epoch 20/50\n",
      "60000/60000 [==============================] - 5s - loss: 0.1413 - val_loss: 0.1388\n",
      "Epoch 21/50\n",
      "60000/60000 [==============================] - 6s - loss: 0.1391 - val_loss: 0.1367\n",
      "Epoch 22/50\n",
      "60000/60000 [==============================] - 6s - loss: 0.1371 - val_loss: 0.1348\n",
      "Epoch 23/50\n",
      "60000/60000 [==============================] - 5s - loss: 0.1352 - val_loss: 0.1328\n",
      "Epoch 24/50\n",
      "60000/60000 [==============================] - 6s - loss: 0.1333 - val_loss: 0.1310\n",
      "Epoch 25/50\n",
      "60000/60000 [==============================] - 6s - loss: 0.1315 - val_loss: 0.1293\n",
      "Epoch 26/50\n",
      "60000/60000 [==============================] - 6s - loss: 0.1298 - val_loss: 0.1276\n",
      "Epoch 27/50\n",
      "60000/60000 [==============================] - 5s - loss: 0.1281 - val_loss: 0.1259\n",
      "Epoch 28/50\n",
      "60000/60000 [==============================] - 6s - loss: 0.1265 - val_loss: 0.1243\n",
      "Epoch 29/50\n",
      "60000/60000 [==============================] - 5s - loss: 0.1249 - val_loss: 0.1227\n",
      "Epoch 30/50\n",
      "60000/60000 [==============================] - 5s - loss: 0.1234 - val_loss: 0.1212\n",
      "Epoch 31/50\n",
      "60000/60000 [==============================] - 5s - loss: 0.1219 - val_loss: 0.1197\n",
      "Epoch 32/50\n",
      "60000/60000 [==============================] - 5s - loss: 0.1205 - val_loss: 0.1184\n",
      "Epoch 33/50\n",
      "60000/60000 [==============================] - 5s - loss: 0.1192 - val_loss: 0.1171\n",
      "Epoch 34/50\n",
      "60000/60000 [==============================] - 5s - loss: 0.1179 - val_loss: 0.1159\n",
      "Epoch 35/50\n",
      "60000/60000 [==============================] - 5s - loss: 0.1167 - val_loss: 0.1147\n",
      "Epoch 36/50\n",
      "60000/60000 [==============================] - 5s - loss: 0.1156 - val_loss: 0.1136\n",
      "Epoch 37/50\n",
      "60000/60000 [==============================] - 5s - loss: 0.1145 - val_loss: 0.1125\n",
      "Epoch 38/50\n",
      "60000/60000 [==============================] - 5s - loss: 0.1135 - val_loss: 0.1115\n",
      "Epoch 39/50\n",
      "60000/60000 [==============================] - 5s - loss: 0.1126 - val_loss: 0.1106\n",
      "Epoch 40/50\n",
      "60000/60000 [==============================] - 5s - loss: 0.1117 - val_loss: 0.1098\n",
      "Epoch 41/50\n",
      "60000/60000 [==============================] - 5s - loss: 0.1109 - val_loss: 0.1090\n",
      "Epoch 42/50\n",
      "60000/60000 [==============================] - 5s - loss: 0.1102 - val_loss: 0.1082\n",
      "Epoch 43/50\n",
      "60000/60000 [==============================] - 5s - loss: 0.1094 - val_loss: 0.1075\n",
      "Epoch 44/50\n",
      "60000/60000 [==============================] - 5s - loss: 0.1088 - val_loss: 0.1069\n",
      "Epoch 45/50\n",
      "60000/60000 [==============================] - 5s - loss: 0.1081 - val_loss: 0.1062\n",
      "Epoch 46/50\n",
      "60000/60000 [==============================] - 5s - loss: 0.1075 - val_loss: 0.1057\n",
      "Epoch 47/50\n",
      "60000/60000 [==============================] - 5s - loss: 0.1070 - val_loss: 0.1051\n",
      "Epoch 48/50\n",
      "60000/60000 [==============================] - 5s - loss: 0.1065 - val_loss: 0.1046\n",
      "Epoch 49/50\n",
      "60000/60000 [==============================] - 5s - loss: 0.1060 - val_loss: 0.1042\n",
      "Epoch 50/50\n",
      "60000/60000 [==============================] - 5s - loss: 0.1055 - val_loss: 0.1037\n"
     ]
    },
    {
     "data": {
      "text/plain": [
       "<keras.callbacks.History at 0x7fcb25147e80>"
      ]
     },
     "execution_count": 3,
     "metadata": {},
     "output_type": "execute_result"
    }
   ],
   "source": [
    "autoencoder.fit(x_train, x_train,             \n",
    "                epochs=50,\n",
    "                batch_size=256,\n",
    "                shuffle=True,\n",
    "                validation_data=(x_test, x_test))"
   ]
  },
  {
   "cell_type": "markdown",
   "metadata": {},
   "source": [
    "MNISTのデータを読み込んだ後、配列を変形しています。<br>\n",
    "x_trainは (60000, 28, 28) という形をしていますが、<br>\n",
    "784次元の入力になるように (60000, 784) に変形しています。\n",
    "\n",
    "また、Autoencoderなので、入力画像がラベルとしても使われます。\n",
    "\n",
    "50エポック計算すると、訓練誤差やテスト誤差は共に0.10程度になります。"
   ]
  },
  {
   "cell_type": "code",
   "execution_count": 4,
   "metadata": {},
   "outputs": [],
   "source": [
    "autoencoder.save_weights(DIR_WORK + 'autoencoder-1.h5')\n",
    "autoencoder.load_weights(DIR_WORK + 'autoencoder-1.h5')"
   ]
  },
  {
   "cell_type": "markdown",
   "metadata": {},
   "source": [
    "### 2-4. 入出力画像の視覚化\n",
    "\n",
    "次に、入力画像と出力画像を可視化してみます。\n",
    "\n",
    "上段：オリジナル画像　下段：出力画像"
   ]
  },
  {
   "cell_type": "code",
   "execution_count": 5,
   "metadata": {},
   "outputs": [
    {
     "data": {
      "image/png": "[encoded data removed]",
      "text/plain": [
       "<matplotlib.figure.Figure at 0x7fcb21f42390>"
      ]
     },
     "metadata": {},
     "output_type": "display_data"
    }
   ],
   "source": [
    "import matplotlib.pyplot as plt\n",
    "\n",
    "# テスト画像を変換\n",
    "decoded_imgs = autoencoder.predict(x_test)\n",
    "\n",
    "# 何個表示するか\n",
    "n = 12\n",
    "plt.figure(figsize=(20, 4))\n",
    "for i in range(n):\n",
    "    # オリジナルのテスト画像を表示\n",
    "    ax = plt.subplot(2, n, i+1)\n",
    "    plt.imshow(x_test[i].reshape(28, 28))\n",
    "    plt.gray()\n",
    "    ax.get_xaxis().set_visible(False)\n",
    "    ax.get_yaxis().set_visible(False)\n",
    "\n",
    "    # 変換された画像を表示\n",
    "    ax = plt.subplot(2, n, i+1+n)\n",
    "    plt.imshow(decoded_imgs[i].reshape(28, 28))\n",
    "    plt.gray()\n",
    "    ax.get_xaxis().set_visible(False)\n",
    "    ax.get_yaxis().set_visible(False)\n",
    "plt.show()"
   ]
  },
  {
   "cell_type": "markdown",
   "metadata": {},
   "source": [
    "無事に可視化することができました。オリジナルに近い画像を出力できていることが分かります。\n"
   ]
  },
  {
   "cell_type": "markdown",
   "metadata": {},
   "source": [
    "### 2-5. Adam適用の場合\n",
    "\n",
    "ここまで、オプティマイザはAdadeltaを使用しましたが、最近よく使われるAdamにするとどうなるのか、<br>\n",
    "以下で確認してみます。"
   ]
  },
  {
   "cell_type": "code",
   "execution_count": 6,
   "metadata": {},
   "outputs": [],
   "source": [
    "autoencoder.compile(optimizer='adam', loss='binary_crossentropy')"
   ]
  },
  {
   "cell_type": "code",
   "execution_count": 7,
   "metadata": {},
   "outputs": [
    {
     "name": "stdout",
     "output_type": "stream",
     "text": [
      "Train on 60000 samples, validate on 10000 samples\n",
      "Epoch 1/50\n",
      "60000/60000 [==============================] - 6s - loss: 0.1023 - val_loss: 0.0977\n",
      "Epoch 2/50\n",
      "60000/60000 [==============================] - 5s - loss: 0.0976 - val_loss: 0.0952\n",
      "Epoch 3/50\n",
      "60000/60000 [==============================] - 5s - loss: 0.0959 - val_loss: 0.0941\n",
      "Epoch 4/50\n",
      "60000/60000 [==============================] - 5s - loss: 0.0951 - val_loss: 0.0935\n",
      "Epoch 5/50\n",
      "60000/60000 [==============================] - 5s - loss: 0.0946 - val_loss: 0.0931\n",
      "Epoch 6/50\n",
      "60000/60000 [==============================] - 5s - loss: 0.0942 - val_loss: 0.0928\n",
      "Epoch 7/50\n",
      "60000/60000 [==============================] - 5s - loss: 0.0940 - val_loss: 0.0927\n",
      "Epoch 8/50\n",
      "60000/60000 [==============================] - 5s - loss: 0.0938 - val_loss: 0.0925\n",
      "Epoch 9/50\n",
      "60000/60000 [==============================] - 5s - loss: 0.0937 - val_loss: 0.0924\n",
      "Epoch 10/50\n",
      "60000/60000 [==============================] - 5s - loss: 0.0936 - val_loss: 0.0923\n",
      "Epoch 11/50\n",
      "60000/60000 [==============================] - 5s - loss: 0.0935 - val_loss: 0.0921\n",
      "Epoch 12/50\n",
      "60000/60000 [==============================] - 5s - loss: 0.0934 - val_loss: 0.0922\n",
      "Epoch 13/50\n",
      "60000/60000 [==============================] - 5s - loss: 0.0933 - val_loss: 0.0921\n",
      "Epoch 14/50\n",
      "60000/60000 [==============================] - 5s - loss: 0.0932 - val_loss: 0.0920\n",
      "Epoch 15/50\n",
      "60000/60000 [==============================] - 5s - loss: 0.0932 - val_loss: 0.0921\n",
      "Epoch 16/50\n",
      "60000/60000 [==============================] - 5s - loss: 0.0931 - val_loss: 0.0919\n",
      "Epoch 17/50\n",
      "60000/60000 [==============================] - 5s - loss: 0.0931 - val_loss: 0.0919\n",
      "Epoch 18/50\n",
      "60000/60000 [==============================] - 5s - loss: 0.0930 - val_loss: 0.0918\n",
      "Epoch 19/50\n",
      "60000/60000 [==============================] - 5s - loss: 0.0930 - val_loss: 0.0918\n",
      "Epoch 20/50\n",
      "60000/60000 [==============================] - 5s - loss: 0.0930 - val_loss: 0.0918\n",
      "Epoch 21/50\n",
      "60000/60000 [==============================] - 5s - loss: 0.0929 - val_loss: 0.0918\n",
      "Epoch 22/50\n",
      "60000/60000 [==============================] - 5s - loss: 0.0929 - val_loss: 0.0918\n",
      "Epoch 23/50\n",
      "60000/60000 [==============================] - 5s - loss: 0.0929 - val_loss: 0.0918\n",
      "Epoch 24/50\n",
      "60000/60000 [==============================] - 5s - loss: 0.0929 - val_loss: 0.0917\n",
      "Epoch 25/50\n",
      "60000/60000 [==============================] - 5s - loss: 0.0928 - val_loss: 0.0917\n",
      "Epoch 26/50\n",
      "60000/60000 [==============================] - 5s - loss: 0.0928 - val_loss: 0.0917\n",
      "Epoch 27/50\n",
      "60000/60000 [==============================] - 5s - loss: 0.0928 - val_loss: 0.0916\n",
      "Epoch 28/50\n",
      "60000/60000 [==============================] - 5s - loss: 0.0928 - val_loss: 0.0917\n",
      "Epoch 29/50\n",
      "60000/60000 [==============================] - 5s - loss: 0.0928 - val_loss: 0.0916\n",
      "Epoch 30/50\n",
      "60000/60000 [==============================] - 5s - loss: 0.0927 - val_loss: 0.0916\n",
      "Epoch 31/50\n",
      "60000/60000 [==============================] - 5s - loss: 0.0927 - val_loss: 0.0916\n",
      "Epoch 32/50\n",
      "60000/60000 [==============================] - 5s - loss: 0.0927 - val_loss: 0.0916\n",
      "Epoch 33/50\n",
      "60000/60000 [==============================] - 5s - loss: 0.0927 - val_loss: 0.0916\n",
      "Epoch 34/50\n",
      "60000/60000 [==============================] - 5s - loss: 0.0927 - val_loss: 0.0916\n",
      "Epoch 35/50\n",
      "60000/60000 [==============================] - 5s - loss: 0.0927 - val_loss: 0.0916\n",
      "Epoch 36/50\n",
      "60000/60000 [==============================] - 5s - loss: 0.0927 - val_loss: 0.0916\n",
      "Epoch 37/50\n",
      "60000/60000 [==============================] - 5s - loss: 0.0926 - val_loss: 0.0916\n",
      "Epoch 38/50\n",
      "60000/60000 [==============================] - 5s - loss: 0.0926 - val_loss: 0.0916\n",
      "Epoch 39/50\n",
      "60000/60000 [==============================] - 5s - loss: 0.0926 - val_loss: 0.0915\n",
      "Epoch 40/50\n",
      "60000/60000 [==============================] - 5s - loss: 0.0926 - val_loss: 0.0916\n",
      "Epoch 41/50\n",
      "60000/60000 [==============================] - 5s - loss: 0.0926 - val_loss: 0.0915\n",
      "Epoch 42/50\n",
      "60000/60000 [==============================] - 5s - loss: 0.0926 - val_loss: 0.0915\n",
      "Epoch 43/50\n",
      "60000/60000 [==============================] - 5s - loss: 0.0926 - val_loss: 0.0915\n",
      "Epoch 44/50\n",
      "60000/60000 [==============================] - 5s - loss: 0.0926 - val_loss: 0.0916\n",
      "Epoch 45/50\n",
      "60000/60000 [==============================] - 5s - loss: 0.0926 - val_loss: 0.0915\n",
      "Epoch 46/50\n",
      "60000/60000 [==============================] - 5s - loss: 0.0926 - val_loss: 0.0915\n",
      "Epoch 47/50\n",
      "60000/60000 [==============================] - 5s - loss: 0.0925 - val_loss: 0.0915\n",
      "Epoch 48/50\n",
      "60000/60000 [==============================] - 5s - loss: 0.0925 - val_loss: 0.0914\n",
      "Epoch 49/50\n",
      "60000/60000 [==============================] - 5s - loss: 0.0925 - val_loss: 0.0914\n",
      "Epoch 50/50\n",
      "60000/60000 [==============================] - 5s - loss: 0.0925 - val_loss: 0.0915\n"
     ]
    },
    {
     "data": {
      "text/plain": [
       "<keras.callbacks.History at 0x7fcaf99aa940>"
      ]
     },
     "execution_count": 7,
     "metadata": {},
     "output_type": "execute_result"
    }
   ],
   "source": [
    "autoencoder.fit(x_train, x_train,\n",
    "                epochs=50,\n",
    "                batch_size=256,\n",
    "                shuffle=True,\n",
    "                validation_data=(x_test, x_test))"
   ]
  },
  {
   "cell_type": "code",
   "execution_count": 8,
   "metadata": {},
   "outputs": [],
   "source": [
    "autoencoder.save_weights(DIR_WORK + 'autoencoder-1-2.h5')\n",
    "autoencoder.load_weights(DIR_WORK + 'autoencoder-1-2.h5')"
   ]
  },
  {
   "cell_type": "markdown",
   "metadata": {},
   "source": [
    "### 2-6. Adam適用時の入出力画像の視覚化"
   ]
  },
  {
   "cell_type": "code",
   "execution_count": 9,
   "metadata": {},
   "outputs": [
    {
     "data": {
      "image/png": "[encoded data removed]",
      "text/plain": [
       "<matplotlib.figure.Figure at 0x7fcaf965a860>"
      ]
     },
     "metadata": {},
     "output_type": "display_data"
    }
   ],
   "source": [
    "# テスト画像を変換\n",
    "decoded_imgs = autoencoder.predict(x_test)\n",
    "\n",
    "# 何個表示するか\n",
    "n = 12\n",
    "plt.figure(figsize=(20, 4))\n",
    "for i in range(n):\n",
    "    # オリジナルのテスト画像を表示\n",
    "    ax = plt.subplot(2, n, i+1)\n",
    "    plt.imshow(x_test[i].reshape(28, 28))\n",
    "    plt.gray()\n",
    "    ax.get_xaxis().set_visible(False)\n",
    "    ax.get_yaxis().set_visible(False)\n",
    "\n",
    "    # 変換された画像を表示\n",
    "    ax = plt.subplot(2, n, i+1+n)\n",
    "    plt.imshow(decoded_imgs[i].reshape(28, 28))\n",
    "    plt.gray()\n",
    "    ax.get_xaxis().set_visible(False)\n",
    "    ax.get_yaxis().set_visible(False)\n",
    "plt.show()"
   ]
  },
  {
   "cell_type": "markdown",
   "metadata": {},
   "source": [
    "Adadeltaの場合と見た目はほとんど変わりませんが、<br>\n",
    "訓練誤差とテスト誤差の値は少し小さくなって0.092程度になりました。\n",
    "\n",
    "以下ではAdamを使用していきたいと思います。"
   ]
  },
  {
   "cell_type": "markdown",
   "metadata": {},
   "source": [
    "## 3. Sparse Autoencoder"
   ]
  },
  {
   "cell_type": "markdown",
   "metadata": {},
   "source": [
    "### 3-1. Sparse Autoencoder とは"
   ]
  },
  {
   "cell_type": "markdown",
   "metadata": {},
   "source": [
    "Sparse Autoencoder とは、フィードフォワードニューラルネットワークの学習において<br>\n",
    "<b>汎化能力を高めるため、正則化項を追加した</b>オートエンコーダのこと。<br>\n",
    "ただし、ネットワークの重みではなく、中間層の値自体を0に近づける。\n",
    "\n",
    "入力を $x$、エンコードされたものを $h=f(x)$ とすると（$h$ はコードと呼ばれます）、<br>\n",
    "Sparse Autoencoderの損失関数は次のように表されます。\n",
    "\n",
    "$L(x,g(f(x)))+Ω(h)$\n",
    "\n",
    "ここで、$g$ はデコード、$Ω(h)$ はペナルティを表します。\n",
    "\n",
    "入力よりもコードの次元が多いOvercomplete Autoencoderでも、<br>\n",
    "このペナルティの存在により、単純に値をコピーするのではなく、<br>\n",
    "うまく特徴を学習できるようになります。\n",
    "\n",
    "このペナルティは重み減衰（weight decay）のような正則化（regularization）と<br>\n",
    "似ているように見えますが、それとは異なることに注意する必要があります。<br>\n",
    "<span style=\"color:red\">重み$W$ ではなく、コード$h$ に対する制約</span>になっています。\n",
    "\n",
    "このペナルティの存在によって、<span style=\"color:red\">中間層で活性化するニューロンがより少なくなり疎に</span>なります。\n",
    "\n",
    "人間で考えても、ほとんどのニューロンが発火してしまうよりも、<br>\n",
    "少ないニューロンの発火で再現できる方がエネルギー効率の面でも<br>\n",
    "良いはずで、メリットがあるでしょう。"
   ]
  },
  {
   "cell_type": "markdown",
   "metadata": {},
   "source": [
    "### 3−2. model 生成＋フィッティング"
   ]
  },
  {
   "cell_type": "code",
   "execution_count": 10,
   "metadata": {
    "scrolled": false
   },
   "outputs": [
    {
     "name": "stdout",
     "output_type": "stream",
     "text": [
      "Train on 60000 samples, validate on 10000 samples\n",
      "Epoch 1/70\n",
      "60000/60000 [==============================] - 6s - loss: 0.2977 - val_loss: 0.2125\n",
      "Epoch 2/70\n",
      "60000/60000 [==============================] - 5s - loss: 0.1913 - val_loss: 0.1726\n",
      "Epoch 3/70\n",
      "60000/60000 [==============================] - 5s - loss: 0.1635 - val_loss: 0.1535\n",
      "Epoch 4/70\n",
      "60000/60000 [==============================] - 5s - loss: 0.1489 - val_loss: 0.1423\n",
      "Epoch 5/70\n",
      "60000/60000 [==============================] - 5s - loss: 0.1395 - val_loss: 0.1344\n",
      "Epoch 6/70\n",
      "60000/60000 [==============================] - 6s - loss: 0.1325 - val_loss: 0.1282\n",
      "Epoch 7/70\n",
      "60000/60000 [==============================] - 5s - loss: 0.1271 - val_loss: 0.1234\n",
      "Epoch 8/70\n",
      "60000/60000 [==============================] - 5s - loss: 0.1230 - val_loss: 0.1200\n",
      "Epoch 9/70\n",
      "60000/60000 [==============================] - 5s - loss: 0.1201 - val_loss: 0.1175\n",
      "Epoch 10/70\n",
      "60000/60000 [==============================] - 5s - loss: 0.1180 - val_loss: 0.1157\n",
      "Epoch 11/70\n",
      "60000/60000 [==============================] - 5s - loss: 0.1163 - val_loss: 0.1143\n",
      "Epoch 12/70\n",
      "60000/60000 [==============================] - 5s - loss: 0.1150 - val_loss: 0.1131\n",
      "Epoch 13/70\n",
      "60000/60000 [==============================] - 5s - loss: 0.1140 - val_loss: 0.1121\n",
      "Epoch 14/70\n",
      "60000/60000 [==============================] - 5s - loss: 0.1130 - val_loss: 0.1112\n",
      "Epoch 15/70\n",
      "60000/60000 [==============================] - 5s - loss: 0.1122 - val_loss: 0.1105\n",
      "Epoch 16/70\n",
      "60000/60000 [==============================] - 5s - loss: 0.1115 - val_loss: 0.1098\n",
      "Epoch 17/70\n",
      "60000/60000 [==============================] - 5s - loss: 0.1109 - val_loss: 0.1092\n",
      "Epoch 18/70\n",
      "60000/60000 [==============================] - 5s - loss: 0.1103 - val_loss: 0.1087\n",
      "Epoch 19/70\n",
      "60000/60000 [==============================] - 5s - loss: 0.1097 - val_loss: 0.1082\n",
      "Epoch 20/70\n",
      "60000/60000 [==============================] - 5s - loss: 0.1092 - val_loss: 0.1078\n",
      "Epoch 21/70\n",
      "60000/60000 [==============================] - 5s - loss: 0.1088 - val_loss: 0.1073\n",
      "Epoch 22/70\n",
      "60000/60000 [==============================] - 5s - loss: 0.1084 - val_loss: 0.1069\n",
      "Epoch 23/70\n",
      "60000/60000 [==============================] - 5s - loss: 0.1080 - val_loss: 0.1065\n",
      "Epoch 24/70\n",
      "60000/60000 [==============================] - 5s - loss: 0.1076 - val_loss: 0.1063\n",
      "Epoch 25/70\n",
      "60000/60000 [==============================] - 5s - loss: 0.1073 - val_loss: 0.1059\n",
      "Epoch 26/70\n",
      "60000/60000 [==============================] - 5s - loss: 0.1070 - val_loss: 0.1056\n",
      "Epoch 27/70\n",
      "60000/60000 [==============================] - 5s - loss: 0.1067 - val_loss: 0.1053\n",
      "Epoch 28/70\n",
      "60000/60000 [==============================] - 5s - loss: 0.1064 - val_loss: 0.1050\n",
      "Epoch 29/70\n",
      "60000/60000 [==============================] - 5s - loss: 0.1061 - val_loss: 0.1048\n",
      "Epoch 30/70\n",
      "60000/60000 [==============================] - 5s - loss: 0.1059 - val_loss: 0.1045\n",
      "Epoch 31/70\n",
      "60000/60000 [==============================] - 5s - loss: 0.1056 - val_loss: 0.1043\n",
      "Epoch 32/70\n",
      "60000/60000 [==============================] - 5s - loss: 0.1054 - val_loss: 0.1041\n",
      "Epoch 33/70\n",
      "60000/60000 [==============================] - 5s - loss: 0.1052 - val_loss: 0.1039\n",
      "Epoch 34/70\n",
      "60000/60000 [==============================] - 5s - loss: 0.1050 - val_loss: 0.1038\n",
      "Epoch 35/70\n",
      "60000/60000 [==============================] - 5s - loss: 0.1048 - val_loss: 0.1035\n",
      "Epoch 36/70\n",
      "60000/60000 [==============================] - 5s - loss: 0.1046 - val_loss: 0.1034\n",
      "Epoch 37/70\n",
      "60000/60000 [==============================] - 5s - loss: 0.1044 - val_loss: 0.1032\n",
      "Epoch 38/70\n",
      "60000/60000 [==============================] - 5s - loss: 0.1042 - val_loss: 0.1030\n",
      "Epoch 39/70\n",
      "60000/60000 [==============================] - 5s - loss: 0.1041 - val_loss: 0.1028\n",
      "Epoch 40/70\n",
      "60000/60000 [==============================] - 5s - loss: 0.1039 - val_loss: 0.1027\n",
      "Epoch 41/70\n",
      "60000/60000 [==============================] - 5s - loss: 0.1038 - val_loss: 0.1025\n",
      "Epoch 42/70\n",
      "60000/60000 [==============================] - 5s - loss: 0.1036 - val_loss: 0.1025\n",
      "Epoch 43/70\n",
      "60000/60000 [==============================] - 5s - loss: 0.1035 - val_loss: 0.1023\n",
      "Epoch 44/70\n",
      "60000/60000 [==============================] - 5s - loss: 0.1034 - val_loss: 0.1021\n",
      "Epoch 45/70\n",
      "60000/60000 [==============================] - 5s - loss: 0.1032 - val_loss: 0.1020\n",
      "Epoch 46/70\n",
      "60000/60000 [==============================] - 5s - loss: 0.1031 - val_loss: 0.1019\n",
      "Epoch 47/70\n",
      "60000/60000 [==============================] - 5s - loss: 0.1030 - val_loss: 0.1018\n",
      "Epoch 48/70\n",
      "60000/60000 [==============================] - 5s - loss: 0.1028 - val_loss: 0.1017\n",
      "Epoch 49/70\n",
      "60000/60000 [==============================] - 5s - loss: 0.1027 - val_loss: 0.1015\n",
      "Epoch 50/70\n",
      "60000/60000 [==============================] - 5s - loss: 0.1026 - val_loss: 0.1016\n",
      "Epoch 51/70\n",
      "60000/60000 [==============================] - 5s - loss: 0.1025 - val_loss: 0.1013\n",
      "Epoch 52/70\n",
      "60000/60000 [==============================] - 5s - loss: 0.1024 - val_loss: 0.1013\n",
      "Epoch 53/70\n",
      "60000/60000 [==============================] - 5s - loss: 0.1023 - val_loss: 0.1012\n",
      "Epoch 54/70\n",
      "60000/60000 [==============================] - 5s - loss: 0.1022 - val_loss: 0.1012\n",
      "Epoch 55/70\n",
      "60000/60000 [==============================] - 5s - loss: 0.1021 - val_loss: 0.1010\n",
      "Epoch 56/70\n",
      "60000/60000 [==============================] - 5s - loss: 0.1020 - val_loss: 0.1009\n",
      "Epoch 57/70\n",
      "60000/60000 [==============================] - 5s - loss: 0.1019 - val_loss: 0.1008\n",
      "Epoch 58/70\n",
      "60000/60000 [==============================] - 5s - loss: 0.1019 - val_loss: 0.1007\n",
      "Epoch 59/70\n",
      "60000/60000 [==============================] - 5s - loss: 0.1018 - val_loss: 0.1007\n",
      "Epoch 60/70\n",
      "60000/60000 [==============================] - 5s - loss: 0.1017 - val_loss: 0.1006\n",
      "Epoch 61/70\n",
      "60000/60000 [==============================] - 5s - loss: 0.1016 - val_loss: 0.1006\n",
      "Epoch 62/70\n",
      "60000/60000 [==============================] - 5s - loss: 0.1015 - val_loss: 0.1004\n",
      "Epoch 63/70\n",
      "60000/60000 [==============================] - 5s - loss: 0.1015 - val_loss: 0.1004\n",
      "Epoch 64/70\n",
      "60000/60000 [==============================] - 5s - loss: 0.1014 - val_loss: 0.1003\n",
      "Epoch 65/70\n",
      "60000/60000 [==============================] - 5s - loss: 0.1013 - val_loss: 0.1002\n",
      "Epoch 66/70\n",
      "60000/60000 [==============================] - 5s - loss: 0.1012 - val_loss: 0.1001\n",
      "Epoch 67/70\n",
      "60000/60000 [==============================] - 5s - loss: 0.1012 - val_loss: 0.1000\n",
      "Epoch 68/70\n",
      "60000/60000 [==============================] - 5s - loss: 0.1011 - val_loss: 0.1000\n",
      "Epoch 69/70\n",
      "60000/60000 [==============================] - 5s - loss: 0.1010 - val_loss: 0.1000\n",
      "Epoch 70/70\n",
      "60000/60000 [==============================] - 5s - loss: 0.1010 - val_loss: 0.0999\n"
     ]
    },
    {
     "data": {
      "text/plain": [
       "<keras.callbacks.History at 0x7fcaf9faef98>"
      ]
     },
     "execution_count": 10,
     "metadata": {},
     "output_type": "execute_result"
    }
   ],
   "source": [
    "from keras import regularizers\n",
    "\n",
    "encoding_dim = 32\n",
    "input_img = Input(shape=(784,))\n",
    "\n",
    "# activity regularizerを加える\n",
    "encoded = Dense(encoding_dim, activation='relu',\n",
    "                activity_regularizer=regularizers.l1(1e-6))(input_img)\n",
    "\n",
    "# keras.regularizers.l1(0.)\n",
    "# keras.regularizers.l2(0.)\n",
    "# keras.regularizers.l1_l2(0.)\n",
    "\n",
    "decoded = Dense(784, activation='sigmoid')(encoded)\n",
    "\n",
    "# Undercomplete Autoencoder との比較\n",
    "#    activity_regularizer が付与されただけ\n",
    "#encoded = Dense(encoding_dim, activation='relu')(input_img)\n",
    "#decoded = Dense(784, activation='sigmoid')(encoded)\n",
    "\n",
    "autoencoder = Model(inputs=input_img, outputs=decoded)\n",
    "\n",
    "autoencoder.compile(optimizer='adam', loss='binary_crossentropy')\n",
    "autoencoder.fit(x_train, x_train,\n",
    "                epochs=70,\n",
    "                batch_size=256,\n",
    "                shuffle=True,\n",
    "                validation_data=(x_test, x_test))"
   ]
  },
  {
   "cell_type": "code",
   "execution_count": 11,
   "metadata": {},
   "outputs": [],
   "source": [
    "autoencoder.save_weights(DIR_WORK + 'autoencoder-2.h5')\n",
    "autoencoder.load_weights(DIR_WORK + 'autoencoder-2.h5')"
   ]
  },
  {
   "cell_type": "markdown",
   "metadata": {},
   "source": [
    "regularizers.l1() の部分がペナルティ項に対応しています。<br>\n",
    "これは $Ω(h)=λ∑|h_i|$ に相当します。"
   ]
  },
  {
   "cell_type": "markdown",
   "metadata": {},
   "source": [
    "### 3-3. 入出力画像の視覚化"
   ]
  },
  {
   "cell_type": "code",
   "execution_count": 12,
   "metadata": {},
   "outputs": [
    {
     "data": {
      "image/png": "[encoded data removed]",
      "text/plain": [
       "<matplotlib.figure.Figure at 0x7fcaf9772b70>"
      ]
     },
     "metadata": {},
     "output_type": "display_data"
    }
   ],
   "source": [
    "# テスト画像を変換\n",
    "decoded_imgs = autoencoder.predict(x_test)\n",
    "\n",
    "# 何個表示するか\n",
    "n = 10\n",
    "plt.figure(figsize=(20, 4))\n",
    "for i in range(1, n):\n",
    "    # オリジナルのテスト画像を表示\n",
    "    ax = plt.subplot(2, n, i+1)\n",
    "    plt.imshow(x_test[i].reshape(28, 28))\n",
    "    plt.gray()\n",
    "    ax.get_xaxis().set_visible(False)\n",
    "    ax.get_yaxis().set_visible(False)\n",
    "\n",
    "    # 変換された画像を表示\n",
    "    ax = plt.subplot(2, n, i+1+n)\n",
    "    plt.imshow(decoded_imgs[i].reshape(28, 28))\n",
    "    plt.gray()\n",
    "    ax.get_xaxis().set_visible(False)\n",
    "    ax.get_yaxis().set_visible(False)\n",
    "plt.show()"
   ]
  },
  {
   "cell_type": "markdown",
   "metadata": {},
   "source": [
    "### 3-4. 中間層の平均活性度を確認"
   ]
  },
  {
   "cell_type": "markdown",
   "metadata": {},
   "source": [
    "出力画像の見た目も、テスト誤差も、どちらもペナルティがない時とほとんど変わらないように見えます。\n",
    "\n",
    "中間層の平均活性度を見てみましょう。<br>\n",
    "ペナルティ $Ω(h)$ によって平均活性度が小さくなっていると考えられます。"
   ]
  },
  {
   "cell_type": "code",
   "execution_count": 13,
   "metadata": {},
   "outputs": [
    {
     "name": "stdout",
     "output_type": "stream",
     "text": [
      "encoded img mean: 0.856017\n"
     ]
    }
   ],
   "source": [
    "encoder = Model(inputs=input_img, outputs=encoded)\n",
    "encoded_imgs = encoder.predict(x_test)\n",
    "\n",
    "print('encoded img mean:', encoded_imgs.mean())"
   ]
  },
  {
   "cell_type": "markdown",
   "metadata": {},
   "source": [
    "という値が得られました。<br>\n",
    "ペナルティ項がない場合は、8.86という値になります。\n",
    "\n",
    "ペナルティを加えることにより、<span style=\"color:red\">中間層における平均活性度が小さくなっている</span>ことが分かります。"
   ]
  },
  {
   "cell_type": "markdown",
   "metadata": {},
   "source": [
    "## 4. Deep Autoencoder"
   ]
  },
  {
   "cell_type": "markdown",
   "metadata": {},
   "source": [
    "### 4-1. 中間層の考察 "
   ]
  },
  {
   "cell_type": "markdown",
   "metadata": {},
   "source": [
    "Autoencoderも順伝播型ニューラルネットワークなので、層を増やした場合のメリットを<br>\n",
    "享受できると考えられます。ここでは中間層の数を増やし、深くすることを考えます。\n",
    "\n",
    "<b>Universal approximation theorem</b>という定理があり、<br>\n",
    "順伝播型ニューラルネットワークの場合、中間層が1層以上、かつ<br>\n",
    "中間層おけるニューロン数が十分大きければ、<br>\n",
    "基本的にどんな関数でも近似できることが保証されています<br>\n",
    "（厳密にはもう少し細かい条件がありますが）。\n",
    "\n",
    "これまで見てきたAutoencoderでエンコーダの部分だけを考えると<br>\n",
    "中間層が存在していません。そこに一つ以上の中間層を加えることにより、<br>\n",
    "エンコーダの表現力が増すと考えることができます。\n",
    "\n",
    "では中間層が1層あれば、どんな関数でも学習できるようになったと考えてよいのでしょうか。<br>\n",
    "実はそうではありません。十分な表現力があるからといって、「学習」できるかどうかは別問題だからです。\n",
    "\n",
    "アルゴリズム上の問題でうまく学習できない可能性があります。<br>\n",
    "そのアルゴリズムでは最適なパラメータになるまで学習を進めることができないかもしれません。<br>\n",
    "原理的にはかなり近い関数を学習可能だとしても、必要となる中間層のニューロン数が<br>\n",
    "膨大で計算時間がかかり過ぎてしまう可能性が考えられます。\n",
    "\n",
    "また、そもそも違う関数に向かって学習が進んでしまう可能性も考えられます。\n",
    "\n",
    "しかし、様々な研究により、層を増やして深くすることで、計算コストが小さくなったり、<br>\n",
    "少ないデータで学習できるようになったり、正確度が上がったりする場合があることが示されています。\n",
    "\n",
    "それでは、深くしたモデルを実際に実装してみましょう。"
   ]
  },
  {
   "cell_type": "markdown",
   "metadata": {},
   "source": [
    "### 4-2. model 生成＋フィッティング"
   ]
  },
  {
   "cell_type": "code",
   "execution_count": 14,
   "metadata": {},
   "outputs": [
    {
     "name": "stdout",
     "output_type": "stream",
     "text": [
      "Train on 60000 samples, validate on 10000 samples\n",
      "Epoch 1/100\n",
      "60000/60000 [==============================] - 9s - loss: 0.2424 - val_loss: 0.1622\n",
      "Epoch 2/100\n",
      "60000/60000 [==============================] - 9s - loss: 0.1459 - val_loss: 0.1321\n",
      "Epoch 3/100\n",
      "60000/60000 [==============================] - 9s - loss: 0.1273 - val_loss: 0.1224\n",
      "Epoch 4/100\n",
      "60000/60000 [==============================] - 9s - loss: 0.1190 - val_loss: 0.1141\n",
      "Epoch 5/100\n",
      "60000/60000 [==============================] - 9s - loss: 0.1136 - val_loss: 0.1103\n",
      "Epoch 6/100\n",
      "60000/60000 [==============================] - 9s - loss: 0.1100 - val_loss: 0.1070\n",
      "Epoch 7/100\n",
      "60000/60000 [==============================] - 9s - loss: 0.1070 - val_loss: 0.1041\n",
      "Epoch 8/100\n",
      "60000/60000 [==============================] - 9s - loss: 0.1045 - val_loss: 0.1021\n",
      "Epoch 9/100\n",
      "60000/60000 [==============================] - 9s - loss: 0.1024 - val_loss: 0.1005\n",
      "Epoch 10/100\n",
      "60000/60000 [==============================] - 9s - loss: 0.1007 - val_loss: 0.0988\n",
      "Epoch 11/100\n",
      "60000/60000 [==============================] - 9s - loss: 0.0993 - val_loss: 0.0976\n",
      "Epoch 12/100\n",
      "60000/60000 [==============================] - 9s - loss: 0.0979 - val_loss: 0.0962\n",
      "Epoch 13/100\n",
      "60000/60000 [==============================] - 9s - loss: 0.0966 - val_loss: 0.0951\n",
      "Epoch 14/100\n",
      "60000/60000 [==============================] - 9s - loss: 0.0955 - val_loss: 0.0939\n",
      "Epoch 15/100\n",
      "60000/60000 [==============================] - 9s - loss: 0.0944 - val_loss: 0.0929\n",
      "Epoch 16/100\n",
      "60000/60000 [==============================] - 9s - loss: 0.0934 - val_loss: 0.0920\n",
      "Epoch 17/100\n",
      "60000/60000 [==============================] - 9s - loss: 0.0927 - val_loss: 0.0914\n",
      "Epoch 18/100\n",
      "60000/60000 [==============================] - 9s - loss: 0.0919 - val_loss: 0.0909\n",
      "Epoch 19/100\n",
      "60000/60000 [==============================] - 9s - loss: 0.0913 - val_loss: 0.0901\n",
      "Epoch 20/100\n",
      "60000/60000 [==============================] - 9s - loss: 0.0907 - val_loss: 0.0897\n",
      "Epoch 21/100\n",
      "60000/60000 [==============================] - 9s - loss: 0.0901 - val_loss: 0.0890\n",
      "Epoch 22/100\n",
      "60000/60000 [==============================] - 9s - loss: 0.0895 - val_loss: 0.0885\n",
      "Epoch 23/100\n",
      "60000/60000 [==============================] - 9s - loss: 0.0891 - val_loss: 0.0882\n",
      "Epoch 24/100\n",
      "60000/60000 [==============================] - 9s - loss: 0.0887 - val_loss: 0.0880\n",
      "Epoch 25/100\n",
      "60000/60000 [==============================] - 9s - loss: 0.0882 - val_loss: 0.0874\n",
      "Epoch 26/100\n",
      "60000/60000 [==============================] - 9s - loss: 0.0879 - val_loss: 0.0873\n",
      "Epoch 27/100\n",
      "60000/60000 [==============================] - 9s - loss: 0.0876 - val_loss: 0.0877\n",
      "Epoch 28/100\n",
      "60000/60000 [==============================] - 9s - loss: 0.0873 - val_loss: 0.0867\n",
      "Epoch 29/100\n",
      "60000/60000 [==============================] - 9s - loss: 0.0870 - val_loss: 0.0862\n",
      "Epoch 30/100\n",
      "60000/60000 [==============================] - 9s - loss: 0.0867 - val_loss: 0.0859\n",
      "Epoch 31/100\n",
      "60000/60000 [==============================] - 9s - loss: 0.0865 - val_loss: 0.0858\n",
      "Epoch 32/100\n",
      "60000/60000 [==============================] - 9s - loss: 0.0863 - val_loss: 0.0857\n",
      "Epoch 33/100\n",
      "60000/60000 [==============================] - 9s - loss: 0.0860 - val_loss: 0.0854\n",
      "Epoch 34/100\n",
      "60000/60000 [==============================] - 9s - loss: 0.0857 - val_loss: 0.0852\n",
      "Epoch 35/100\n",
      "60000/60000 [==============================] - 9s - loss: 0.0855 - val_loss: 0.0851\n",
      "Epoch 36/100\n",
      "60000/60000 [==============================] - 9s - loss: 0.0853 - val_loss: 0.0845\n",
      "Epoch 37/100\n",
      "60000/60000 [==============================] - 9s - loss: 0.0851 - val_loss: 0.0847\n",
      "Epoch 38/100\n",
      "60000/60000 [==============================] - 9s - loss: 0.0849 - val_loss: 0.0842\n",
      "Epoch 39/100\n",
      "60000/60000 [==============================] - 9s - loss: 0.0848 - val_loss: 0.0843\n",
      "Epoch 40/100\n",
      "60000/60000 [==============================] - 9s - loss: 0.0845 - val_loss: 0.0842\n",
      "Epoch 41/100\n",
      "60000/60000 [==============================] - 9s - loss: 0.0844 - val_loss: 0.0840\n",
      "Epoch 42/100\n",
      "60000/60000 [==============================] - 9s - loss: 0.0843 - val_loss: 0.0837\n",
      "Epoch 43/100\n",
      "60000/60000 [==============================] - 9s - loss: 0.0841 - val_loss: 0.0834\n",
      "Epoch 44/100\n",
      "60000/60000 [==============================] - 9s - loss: 0.0840 - val_loss: 0.0832\n",
      "Epoch 45/100\n",
      "60000/60000 [==============================] - 9s - loss: 0.0838 - val_loss: 0.0834\n",
      "Epoch 46/100\n",
      "60000/60000 [==============================] - 9s - loss: 0.0837 - val_loss: 0.0834\n",
      "Epoch 47/100\n",
      "60000/60000 [==============================] - 9s - loss: 0.0836 - val_loss: 0.0831\n",
      "Epoch 48/100\n",
      "60000/60000 [==============================] - 9s - loss: 0.0834 - val_loss: 0.0833\n",
      "Epoch 49/100\n",
      "60000/60000 [==============================] - 9s - loss: 0.0834 - val_loss: 0.0833\n",
      "Epoch 50/100\n",
      "60000/60000 [==============================] - 9s - loss: 0.0833 - val_loss: 0.0828\n",
      "Epoch 51/100\n",
      "60000/60000 [==============================] - 9s - loss: 0.0832 - val_loss: 0.0826\n",
      "Epoch 52/100\n",
      "60000/60000 [==============================] - 9s - loss: 0.0831 - val_loss: 0.0827\n",
      "Epoch 53/100\n",
      "60000/60000 [==============================] - 9s - loss: 0.0830 - val_loss: 0.0826\n",
      "Epoch 54/100\n",
      "60000/60000 [==============================] - 9s - loss: 0.0830 - val_loss: 0.0827\n",
      "Epoch 55/100\n",
      "60000/60000 [==============================] - 9s - loss: 0.0829 - val_loss: 0.0826\n",
      "Epoch 56/100\n",
      "60000/60000 [==============================] - 9s - loss: 0.0828 - val_loss: 0.0824\n",
      "Epoch 57/100\n",
      "60000/60000 [==============================] - 9s - loss: 0.0827 - val_loss: 0.0823\n",
      "Epoch 58/100\n",
      "60000/60000 [==============================] - 9s - loss: 0.0827 - val_loss: 0.0823\n",
      "Epoch 59/100\n",
      "60000/60000 [==============================] - 9s - loss: 0.0825 - val_loss: 0.0821\n",
      "Epoch 60/100\n",
      "60000/60000 [==============================] - 9s - loss: 0.0825 - val_loss: 0.0823\n",
      "Epoch 61/100\n",
      "60000/60000 [==============================] - 9s - loss: 0.0824 - val_loss: 0.0823\n",
      "Epoch 62/100\n",
      "60000/60000 [==============================] - 9s - loss: 0.0824 - val_loss: 0.0822\n",
      "Epoch 63/100\n",
      "60000/60000 [==============================] - 9s - loss: 0.0823 - val_loss: 0.0822\n",
      "Epoch 64/100\n",
      "60000/60000 [==============================] - 9s - loss: 0.0822 - val_loss: 0.0819\n",
      "Epoch 65/100\n",
      "60000/60000 [==============================] - 9s - loss: 0.0822 - val_loss: 0.0822\n",
      "Epoch 66/100\n",
      "60000/60000 [==============================] - 9s - loss: 0.0822 - val_loss: 0.0818\n",
      "Epoch 67/100\n",
      "60000/60000 [==============================] - 9s - loss: 0.0821 - val_loss: 0.0817\n",
      "Epoch 68/100\n",
      "60000/60000 [==============================] - 9s - loss: 0.0820 - val_loss: 0.0817\n",
      "Epoch 69/100\n",
      "60000/60000 [==============================] - 9s - loss: 0.0820 - val_loss: 0.0820\n",
      "Epoch 70/100\n",
      "60000/60000 [==============================] - 9s - loss: 0.0819 - val_loss: 0.0816\n",
      "Epoch 71/100\n",
      "60000/60000 [==============================] - 9s - loss: 0.0819 - val_loss: 0.0817\n",
      "Epoch 72/100\n",
      "60000/60000 [==============================] - 9s - loss: 0.0819 - val_loss: 0.0816\n",
      "Epoch 73/100\n",
      "60000/60000 [==============================] - 9s - loss: 0.0818 - val_loss: 0.0816\n",
      "Epoch 74/100\n",
      "60000/60000 [==============================] - 9s - loss: 0.0818 - val_loss: 0.0820\n",
      "Epoch 75/100\n",
      "60000/60000 [==============================] - 9s - loss: 0.0818 - val_loss: 0.0816\n",
      "Epoch 76/100\n",
      "60000/60000 [==============================] - 9s - loss: 0.0817 - val_loss: 0.0814\n",
      "Epoch 77/100\n",
      "60000/60000 [==============================] - 9s - loss: 0.0816 - val_loss: 0.0814\n",
      "Epoch 78/100\n",
      "60000/60000 [==============================] - 9s - loss: 0.0816 - val_loss: 0.0813\n",
      "Epoch 79/100\n",
      "60000/60000 [==============================] - 9s - loss: 0.0816 - val_loss: 0.0813\n",
      "Epoch 80/100\n",
      "60000/60000 [==============================] - 9s - loss: 0.0815 - val_loss: 0.0813\n",
      "Epoch 81/100\n",
      "60000/60000 [==============================] - 9s - loss: 0.0815 - val_loss: 0.0814\n",
      "Epoch 82/100\n",
      "60000/60000 [==============================] - 9s - loss: 0.0815 - val_loss: 0.0812\n",
      "Epoch 83/100\n",
      "60000/60000 [==============================] - 9s - loss: 0.0815 - val_loss: 0.0816\n",
      "Epoch 84/100\n",
      "60000/60000 [==============================] - 9s - loss: 0.0814 - val_loss: 0.0813\n",
      "Epoch 85/100\n"
     ]
    },
    {
     "name": "stdout",
     "output_type": "stream",
     "text": [
      "60000/60000 [==============================] - 9s - loss: 0.0814 - val_loss: 0.0813\n",
      "Epoch 86/100\n",
      "60000/60000 [==============================] - 9s - loss: 0.0814 - val_loss: 0.0812\n",
      "Epoch 87/100\n",
      "60000/60000 [==============================] - 9s - loss: 0.0813 - val_loss: 0.0814\n",
      "Epoch 88/100\n",
      "60000/60000 [==============================] - 9s - loss: 0.0813 - val_loss: 0.0811\n",
      "Epoch 89/100\n",
      "60000/60000 [==============================] - 9s - loss: 0.0812 - val_loss: 0.0810\n",
      "Epoch 90/100\n",
      "60000/60000 [==============================] - 9s - loss: 0.0812 - val_loss: 0.0811\n",
      "Epoch 91/100\n",
      "60000/60000 [==============================] - 9s - loss: 0.0812 - val_loss: 0.0813\n",
      "Epoch 92/100\n",
      "60000/60000 [==============================] - 9s - loss: 0.0812 - val_loss: 0.0811\n",
      "Epoch 93/100\n",
      "60000/60000 [==============================] - 9s - loss: 0.0811 - val_loss: 0.0812\n",
      "Epoch 94/100\n",
      "60000/60000 [==============================] - 9s - loss: 0.0811 - val_loss: 0.0808\n",
      "Epoch 95/100\n",
      "60000/60000 [==============================] - 9s - loss: 0.0811 - val_loss: 0.0807\n",
      "Epoch 96/100\n",
      "60000/60000 [==============================] - 9s - loss: 0.0811 - val_loss: 0.0809\n",
      "Epoch 97/100\n",
      "60000/60000 [==============================] - 9s - loss: 0.0810 - val_loss: 0.0809\n",
      "Epoch 98/100\n",
      "60000/60000 [==============================] - 9s - loss: 0.0810 - val_loss: 0.0810\n",
      "Epoch 99/100\n",
      "60000/60000 [==============================] - 9s - loss: 0.0810 - val_loss: 0.0808\n",
      "Epoch 100/100\n",
      "60000/60000 [==============================] - 9s - loss: 0.0809 - val_loss: 0.0810\n"
     ]
    },
    {
     "data": {
      "text/plain": [
       "<keras.callbacks.History at 0x7fcb035b5b00>"
      ]
     },
     "execution_count": 14,
     "metadata": {},
     "output_type": "execute_result"
    }
   ],
   "source": [
    "encoding_dim = 32\n",
    "input_img = Input(shape=(784,))\n",
    "\n",
    "encoded = Dense(128, activation='relu')(input_img)\n",
    "encoded = Dense(64, activation='relu')(encoded)\n",
    "encoded = Dense(32, activation='relu')(encoded)\n",
    "\n",
    "decoded = Dense(64, activation='relu')(encoded)\n",
    "decoded = Dense(128, activation='relu')(decoded)\n",
    "decoded = Dense(784, activation='sigmoid')(decoded)\n",
    "\n",
    "autoencoder = Model(inputs=input_img, outputs=decoded)\n",
    "autoencoder.compile(optimizer='adam', loss='binary_crossentropy')\n",
    "autoencoder.fit(x_train, x_train,\n",
    "                epochs=100,\n",
    "                batch_size=256,\n",
    "                shuffle=True,\n",
    "                validation_data=(x_test, x_test))"
   ]
  },
  {
   "cell_type": "markdown",
   "metadata": {},
   "source": [
    "### 4-3. 入出力画像の視覚化"
   ]
  },
  {
   "cell_type": "code",
   "execution_count": 15,
   "metadata": {},
   "outputs": [
    {
     "data": {
      "image/png": "[encoded data removed]",
      "text/plain": [
       "<matplotlib.figure.Figure at 0x7fcb14253b70>"
      ]
     },
     "metadata": {},
     "output_type": "display_data"
    }
   ],
   "source": [
    "# テスト画像を変換\n",
    "decoded_imgs = autoencoder.predict(x_test)\n",
    "\n",
    "# 何個表示するか\n",
    "n = 10\n",
    "plt.figure(figsize=(20, 4))\n",
    "for i in range(1, n):\n",
    "    # オリジナルのテスト画像を表示\n",
    "    ax = plt.subplot(2, n, i+1)\n",
    "    plt.imshow(x_test[i].reshape(28, 28))\n",
    "    plt.gray()\n",
    "    ax.get_xaxis().set_visible(False)\n",
    "    ax.get_yaxis().set_visible(False)\n",
    "\n",
    "    # 変換された画像を表示\n",
    "    ax = plt.subplot(2, n, i+1+n)\n",
    "    plt.imshow(decoded_imgs[i].reshape(28, 28))\n",
    "    plt.gray()\n",
    "    ax.get_xaxis().set_visible(False)\n",
    "    ax.get_yaxis().set_visible(False)\n",
    "plt.show()"
   ]
  },
  {
   "cell_type": "markdown",
   "metadata": {},
   "source": [
    "訓練誤差・テスト誤差は共に約0.083となりました。\n",
    "\n",
    "中間層が1層の場合は約0.092だったので、誤差が小さくなっていることが分かります。"
   ]
  },
  {
   "cell_type": "markdown",
   "metadata": {},
   "source": [
    "## 5. Convolutional Autoencoder\n",
    "\n",
    "→続きは　その２でまとめます。"
   ]
  },
  {
   "cell_type": "markdown",
   "metadata": {},
   "source": [
    "## 参考文献"
   ]
  },
  {
   "cell_type": "markdown",
   "metadata": {},
   "source": [
    "Building Autoencoders in Keras<br>\n",
    "https://blog.keras.io/building-autoencoders-in-keras.html\n",
    "\n",
    "Kerasで学ぶAutoencoder<br>\n",
    "https://elix-tech.github.io/ja/2016/07/17/autoencoder.html\n",
    "\n",
    "オートエンコーダ<br>\n",
    "https://ja.wikipedia.org/wiki/%E3%82%AA%E3%83%BC%E3%83%88%E3%82%A8%E3%83%B3%E3%82%B3%E3%83%BC%E3%83%80\n",
    "\n",
    "オートエンコーダ：抽象的な特徴を自己学習するディープラーニングの人気者<br>\n",
    "https://deepage.net/deep_learning/2016/10/09/deeplearning_autoencoder.html\n",
    "\n",
    "AutoEncoderで特徴抽出<br>\n",
    "https://www.slideshare.net/lewuathe/auto-encoder-v2\n",
    "\n",
    "Chainer で Stacked Auto-Encoder を試してみた<br>\n",
    "http://wazalabo.com/chainer-stacked-auto-encoder.html\n",
    "\n",
    "Variational Autoencoder徹底解説<br>\n",
    "https://qiita.com/kenmatsu4/items/b029d697e9995d93aa24\n",
    "\n",
    "A visual proof that neural nets can compute any function<br>\n",
    "http://neuralnetworksanddeeplearning.com/chap4.html"
   ]
  },
  {
   "cell_type": "code",
   "execution_count": null,
   "metadata": {},
   "outputs": [],
   "source": []
  }
 ],
 "metadata": {
  "kernelspec": {
   "display_name": "Python 3",
   "language": "python",
   "name": "python3"
  },
  "language_info": {
   "codemirror_mode": {
    "name": "ipython",
    "version": 3
   },
   "file_extension": ".py",
   "mimetype": "text/x-python",
   "name": "python",
   "nbconvert_exporter": "python",
   "pygments_lexer": "ipython3",
   "version": "3.6.2"
  }
 },
 "nbformat": 4,
 "nbformat_minor": 2
}
