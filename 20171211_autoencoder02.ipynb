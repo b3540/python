{
 "cells": [
  {
   "cell_type": "markdown",
   "metadata": {},
   "source": [
    "# Autoencoder その2; 蒸留,Convolutional Autoencoder, Denoising Autoencoder(DAE)"
   ]
  },
  {
   "cell_type": "markdown",
   "metadata": {},
   "source": [
    "## 5. 蒸留（distillation）"
   ]
  },
  {
   "cell_type": "markdown",
   "metadata": {},
   "source": [
    "一般に、主に画像認識においてCNNは普通のニューラルネットワーク（multilayer perceptron, MLP）<br>\n",
    "よりもパフォーマンスが高いことが知られています。<br>\n",
    "AutoencoderでもCNNを使うことにより、うまく学習できることが期待されます。\n",
    "\n",
    "Urban et al. 2016<br>\n",
    "https://arxiv.org/pdf/1603.05691v2.pdf<br>\n",
    "深さや畳み込みが本当に重要かどうかを実験により検証しています。<br>\n",
    "この研究では、蒸留（distillation）という手法を使って学習させています。"
   ]
  },
  {
   "cell_type": "markdown",
   "metadata": {},
   "source": [
    "蒸留では教師モデルと生徒モデルを用意します。<br>\n",
    "通常は訓練データのラベルを使って学習しますが、蒸留ではこのラベルではなく、<br>\n",
    "<span style=\"color:red\">教師モデルによる予測をラベルとして生徒モデルを学習</span>させます。\n",
    "\n",
    "生徒モデルは、教師モデルの予測と生徒モデルの予測が最小となるように<br>\n",
    "学習していきます（ラベルも両方使う場合があります。参考：Hinton et al. 2015）。<br>\n",
    "https://www.cs.toronto.edu/~hinton/absps/distillation.pdf\n",
    "\n",
    "通常のラベルを使った学習では、例えば猫に関する訓練データであれば、<br>\n",
    "猫以外のクラスに属する確率はゼロとして扱われます。<br>\n",
    "しかし、教師モデルの予測では、猫である確率が一番高くとも、犬や虎である確率も<br>\n",
    "僅かに存在しているはずです。<br>\n",
    "生徒モデルは、ラベルとは異なる他のクラスである確率も含めて学習することになります。"
   ]
  },
  {
   "cell_type": "markdown",
   "metadata": {},
   "source": [
    "蒸留を行うと、<span style=\"color:red\">生徒モデルは教師モデルよりも浅く小さなモデルであるにも関わらず、<br>\n",
    "教師モデルと同等の正確度を出せる</span>ことが分かっています。\n",
    "\n",
    "教師モデルの予測は、正解となるクラスだけでなく、それ以外のクラスに対する確率も<br>\n",
    "含んでいるため、より多くの情報を持っていることになります。<br>\n",
    "これにより、生徒モデルはうまく学習できると考えられます。\n",
    "\n",
    "生徒モデルは教師モデルよりも小さなモデルであるため、少ない計算量で<br>\n",
    "済むようになります。<b>何かサービスをリリースする時には蒸留を使って、<br>\n",
    "生徒モデルをデプロイすると良さそう</b>です。"
   ]
  },
  {
   "cell_type": "markdown",
   "metadata": {},
   "source": [
    "Deep Autoencoderの章で、中間層が1層以上あれば十分な表現力を持てるが<br>\n",
    "うまく学習できるかどうかは別問題という話をしました。<br>\n",
    "今のところ、<span style=\"color:red\">浅いニューラルネットワークに学習させる最も良い方法は蒸留だ</span>と考えられます。<br>\n",
    "\n",
    "蒸留によって限界性能を引き出しつつ、層数や畳み込みによってどう正確度が変化するか<br>\n",
    "を見れば、層数や畳み込みの重要性をある程度見極めることができるでしょう。<br>\n",
    "では実験結果を見てみましょう。\n",
    "\n",
    "<img src=\"https://elix-tech.github.io/images/2016/autoencoder/accuracy_students.png\"\n",
    "    width=\"400px\" height=\"400px\">"
   ]
  },
  {
   "cell_type": "markdown",
   "metadata": {},
   "source": [
    "横軸はパラメータ数になっており、パラメータ数を同じにした条件で比較することができます。<br>\n",
    "まず、畳み込み層の存在は非常に重要であることが分かります。\n",
    "\n",
    "さらにCNN同士で比較すると深さも非常に重要であることが分かります。<br>\n",
    "パラメータ数を増やすことによっても正確度は上がりますが、深さごとに限界があるように見えます。<br>\n",
    "\n",
    "MLPの結果を見ると、<span style=\"color:red\">深いほどいいというわけではなく、4・5層よりも2・3層の方が良い</span>という点も面白いです。"
   ]
  },
  {
   "cell_type": "markdown",
   "metadata": {},
   "source": [
    "## 6. Convolutional Autoencoder"
   ]
  },
  {
   "cell_type": "markdown",
   "metadata": {},
   "source": [
    "今度は畳み込みニューラルネットワーク（convolutional neural network, CNN）を使うことを考えます。"
   ]
  },
  {
   "cell_type": "markdown",
   "metadata": {},
   "source": [
    "### 6-1. Autoencoderで畳み込み層の実装\n",
    "\n",
    "上記の研究結果は普通のCNN・MLPに対するものですが、Autoencoderでも畳み込み層を<br>\n",
    "入れることにより、うまく学習できるようになることが期待されます。<br>\n",
    "では実装してみましょう。"
   ]
  },
  {
   "cell_type": "code",
   "execution_count": 1,
   "metadata": {},
   "outputs": [
    {
     "name": "stderr",
     "output_type": "stream",
     "text": [
      "Using TensorFlow backend.\n"
     ]
    }
   ],
   "source": [
    "from keras.layers import Input, Dense, Conv2D, MaxPooling2D, UpSampling2D\n",
    "from keras.models import Model\n",
    "from keras import backend as K\n",
    "\n",
    "input_img = Input(shape=(28, 28, 1))  # adapt this if using `channels_first` image data format\n",
    "\n",
    "x = Conv2D(16, (3, 3), activation='relu', padding='same')(input_img)\n",
    "x = MaxPooling2D((2, 2), padding='same')(x)\n",
    "x = Conv2D(8, (3, 3), activation='relu', padding='same')(x)\n",
    "x = MaxPooling2D((2, 2), padding='same')(x)\n",
    "x = Conv2D(8, (3, 3), activation='relu', padding='same')(x)\n",
    "encoded = MaxPooling2D((2, 2), padding='same')(x)\n",
    "\n",
    "# at this point the representation is (4, 4, 8) i.e. 128-dimensional\n",
    "\n",
    "x = Conv2D(8, (3, 3), activation='relu', padding='same')(encoded)\n",
    "x = UpSampling2D((2, 2))(x)\n",
    "x = Conv2D(8, (3, 3), activation='relu', padding='same')(x)\n",
    "x = UpSampling2D((2, 2))(x)\n",
    "x = Conv2D(16, (3, 3), activation='relu')(x)\n",
    "x = UpSampling2D((2, 2))(x)\n",
    "decoded = Conv2D(1, (3, 3), activation='sigmoid', padding='same')(x)\n",
    "\n",
    "autoencoder = Model(input_img, decoded)\n",
    "autoencoder.compile(optimizer='adadelta', loss='binary_crossentropy')"
   ]
  },
  {
   "cell_type": "markdown",
   "metadata": {},
   "source": [
    "まずは畳み込み層を見てみましょう。<br>\n",
    "デフォルトではpadding='valid'なのですが、’same’を指定しています。\n",
    "\n",
    "’valid’の場合、（フィルタのサイズやストライドにもよりますが）<b>出力のサイズは入力に対して小さく</b>なります。<br>\n",
    "一方、’same’を指定するとゼロパディングが適用され、畳み込み層の<b>入力と出力のサイズが同じ</b>になります<br>\n",
    "（ストライドが1の場合）。\n",
    "\n",
    "プーリング層では、pool_size=(2, 2)と設定しています。<br>\n",
    "ストライドを指定しない場合は、pool_sizeと同じ幅のストライドが適用されます。\n",
    "\n",
    "エンコードの過程でプーリングを行っている（downsampling）のでサイズが小さくなっています。<br>\n",
    "デコード時にはこのサイズを大きくしてやる必要があるので<b>UpSampling2D</b>を使っています。<br>\n",
    "UpSampling2D((2, 2))の場合は、1つの入力に対して同じ値が4つ出力されることになります。\n"
   ]
  },
  {
   "cell_type": "markdown",
   "metadata": {},
   "source": [
    "### 6-2. モデルの視覚化\n",
    "\n",
    "途中の入力や出力の形がどうなっているのかイメージしづらいと思いますので、図を出力してみましょう。\n",
    "\n",
    "必要なライブラリをインストールしておきます。\n",
    "<pre>\n",
    "!pip install pydot\n",
    "!pip install graphviz\n",
    "</pre>"
   ]
  },
  {
   "cell_type": "code",
   "execution_count": 2,
   "metadata": {},
   "outputs": [],
   "source": [
    "from keras.utils import plot_model\n",
    "plot_model(autoencoder, to_file=\"03_autoencoder/architecture.png\", show_shapes=True)"
   ]
  },
  {
   "cell_type": "markdown",
   "metadata": {},
   "source": [
    "<img src=\"03_autoencoder/architecture.png\" height=\"400px\">"
   ]
  },
  {
   "cell_type": "markdown",
   "metadata": {},
   "source": [
    "真ん中では (8, 4, 4) という形になっていますが、\n",
    "出力では (1, 28, 28) と入力と同じ形に戻っていることが分かります。"
   ]
  },
  {
   "cell_type": "markdown",
   "metadata": {},
   "source": [
    "### 6-3. データの読み込み\n",
    "\n",
    "次に、訓練データとテストデータを読み込みます。"
   ]
  },
  {
   "cell_type": "code",
   "execution_count": 3,
   "metadata": {},
   "outputs": [],
   "source": [
    "from keras.datasets import mnist\n",
    "import numpy as np\n",
    "\n",
    "(x_train, _), (x_test, _) = mnist.load_data()\n",
    "\n",
    "x_train = x_train.astype('float32') / 255.\n",
    "x_test = x_test.astype('float32') / 255.\n",
    "x_train = np.reshape(x_train, (len(x_train), 28, 28, 1))  # adapt this if using `channels_first` image data format\n",
    "x_test = np.reshape(x_test, (len(x_test), 28, 28, 1))  # adapt this if using `channels_first` image data format\n",
    "\n",
    "#ちなみに、\n",
    "#  1. Undercomplete Autoencoder\n",
    "#  2. Sparse Autoencoder\n",
    "#  3. Deep Autoencoder\n",
    "#に使用したデータ読み込みの場合は以下でした。\n",
    "#(x_train, _), (x_test, _) = mnist.load_data()\n",
    "#x_train = x_train.astype('float32') / 255.\n",
    "#x_test = x_test.astype('float32') / 255.\n",
    "#x_train = x_train.reshape((len(x_train), np.prod(x_train.shape[1:])))\n",
    "#x_test = x_test.reshape((len(x_test), np.prod(x_test.shape[1:])))"
   ]
  },
  {
   "cell_type": "markdown",
   "metadata": {},
   "source": [
    "mnist.load_data()で読み込んだ直後のx_trainは (60000, 28, 28) という形をしていますが、<br>\n",
    "これを畳み込みニューラルネットワーク（convolutional neural network, CNN）でよく使われる形<br>\n",
    "(60000, 1, 28, 28) に変換しています。\n",
    "\n",
    "MNISTは<b>グレースケールの画像なのでチャネルが1</b>となっています。x_testも同様の変換を行っています。<br>\n"
   ]
  },
  {
   "cell_type": "markdown",
   "metadata": {},
   "source": [
    "### 6-4. 学習曲線の出力"
   ]
  },
  {
   "cell_type": "markdown",
   "metadata": {},
   "source": [
    "今回はTensorBoardを使って学習曲線を出力してみましょう。<br>\n",
    "TensorBoardの設定ファイルは~/.keras/keras.json"
   ]
  },
  {
   "cell_type": "markdown",
   "metadata": {},
   "source": [
    "<pre>\n",
    "# cat ~/.keras/keras.json\n",
    "{\n",
    "    \"floatx\": \"float32\",\n",
    "    \"epsilon\": 1e-07,\n",
    "    \"backend\": \"tensorflow\",\n",
    "    \"image_data_format\": \"channels_last\"\n",
    "}\n",
    "#\n",
    "</pre>\n",
    "\n",
    "次にターミナルでTensorBoardサーバーを立ち上げ、<br>\n",
    "/tmp/autoencoderに保存してあるログを読み込むようにします。\n",
    "\n",
    "<pre>\n",
    "# tensorboard --logdir=/tmp/autoencoder &\n",
    "TensorBoard 0.1.5 at http://ubuntu16-2:6006 (Press CTRL+C to quit)\n",
    "</pre>\n",
    "<pre>\n",
    "# netstat -anp|grep 6006\n",
    "tcp        0      0 0.0.0.0:6006            0.0.0.0:*               LISTEN      2536/python \n",
    "</pre>"
   ]
  },
  {
   "cell_type": "markdown",
   "metadata": {},
   "source": [
    ""
   ]
  },
  {
   "cell_type": "code",
   "execution_count": null,
   "metadata": {
    "scrolled": false
   },
   "outputs": [],
   "source": [
    "import keras\n",
    "callback_tensorboard = keras.callbacks.TensorBoard(log_dir='/tmp/autoencoder')\n",
    "    \n",
    "autoencoder.fit(x_train, x_train,\n",
    "                       epochs=50,\n",
    "                       batch_size=128,\n",
    "                       shuffle=True,\n",
    "                       validation_data=(x_test, x_test),\n",
    "                       callbacks=[callback_tensorboard])"
   ]
  },
  {
   "cell_type": "markdown",
   "metadata": {},
   "source": [
    "TensorBoardはデフォルトではlog_dir='./logs'という設定になり、<br>\n",
    "./logs配下にログが出力されます。<br>\n",
    "ディレクトリが存在しない場合は自動的に作られます。\n",
    "\n",
    "また、write_graph=Falseと指定することにより、<br>\n",
    "グラフを出力しないようになり、ログファイルのサイズが小さくなります。<br>\n",
    "デフォルトではTrueに設定されています。"
   ]
  },
  {
   "cell_type": "markdown",
   "metadata": {},
   "source": [
    "### 6-5. 活性化関数として swish を利用してみる"
   ]
  },
  {
   "cell_type": "code",
   "execution_count": 8,
   "metadata": {},
   "outputs": [],
   "source": [
    "def swish(x):\n",
    "    return x * K.sigmoid(x)"
   ]
  },
  {
   "cell_type": "code",
   "execution_count": 10,
   "metadata": {},
   "outputs": [],
   "source": [
    "input_img = Input(shape=(28, 28, 1))  # adapt this if using `channels_first` image data format\n",
    "\n",
    "x = Conv2D(16, (3, 3), activation=swish, padding='same')(input_img)\n",
    "x = MaxPooling2D((2, 2), padding='same')(x)\n",
    "x = Conv2D(8, (3, 3), activation=swish, padding='same')(x)\n",
    "x = MaxPooling2D((2, 2), padding='same')(x)\n",
    "x = Conv2D(8, (3, 3), activation=swish, padding='same')(x)\n",
    "encoded = MaxPooling2D((2, 2), padding='same')(x)\n",
    "\n",
    "# at this point the representation is (4, 4, 8) i.e. 128-dimensional\n",
    "\n",
    "x = Conv2D(8, (3, 3), activation=swish, padding='same')(encoded)\n",
    "x = UpSampling2D((2, 2))(x)\n",
    "x = Conv2D(8, (3, 3), activation=swish, padding='same')(x)\n",
    "x = UpSampling2D((2, 2))(x)\n",
    "x = Conv2D(16, (3, 3), activation=swish)(x)\n",
    "x = UpSampling2D((2, 2))(x)\n",
    "decoded = Conv2D(1, (3, 3), activation='sigmoid', padding='same')(x)\n",
    "\n",
    "autoencoder = Model(input_img, decoded)\n",
    "autoencoder.compile(optimizer='adadelta', loss='binary_crossentropy')"
   ]
  },
  {
   "cell_type": "code",
   "execution_count": 11,
   "metadata": {
    "scrolled": true
   },
   "outputs": [
    {
     "name": "stdout",
     "output_type": "stream",
     "text": [
      "Train on 60000 samples, validate on 10000 samples\n",
      "Epoch 1/50\n",
      "60000/60000 [==============================] - 99s - loss: 0.4366 - val_loss: 0.2733\n",
      "Epoch 2/50\n",
      "60000/60000 [==============================] - 99s - loss: 0.2795 - val_loss: 0.2624\n",
      "Epoch 3/50\n",
      "60000/60000 [==============================] - 99s - loss: 0.2635 - val_loss: 0.2450\n",
      "Epoch 4/50\n",
      "60000/60000 [==============================] - 100s - loss: 0.2492 - val_loss: 0.2416\n",
      "Epoch 5/50\n",
      "60000/60000 [==============================] - 99s - loss: 0.2408 - val_loss: 0.2392\n",
      "Epoch 6/50\n",
      "60000/60000 [==============================] - 99s - loss: 0.2356 - val_loss: 0.2292s: 0.23\n",
      "Epoch 7/50\n",
      "60000/60000 [==============================] - 99s - loss: 0.2322 - val_loss: 0.2271\n",
      "Epoch 8/50\n",
      "60000/60000 [==============================] - 99s - loss: 0.2290 - val_loss: 0.2259\n",
      "Epoch 9/50\n",
      "60000/60000 [==============================] - 99s - loss: 0.2246 - val_loss: 0.2185\n",
      "Epoch 10/50\n",
      "60000/60000 [==============================] - 98s - loss: 0.2212 - val_loss: 0.2246\n",
      "Epoch 11/50\n",
      "60000/60000 [==============================] - 99s - loss: 0.2189 - val_loss: 0.2165\n",
      "Epoch 12/50\n",
      "60000/60000 [==============================] - 99s - loss: 0.2166 - val_loss: 0.2160\n",
      "Epoch 13/50\n",
      "60000/60000 [==============================] - 98s - loss: 0.2138 - val_loss: 0.2131\n",
      "Epoch 14/50\n",
      "60000/60000 [==============================] - 98s - loss: 0.2129 - val_loss: 0.2120\n",
      "Epoch 15/50\n",
      "60000/60000 [==============================] - 99s - loss: 0.2123 - val_loss: 0.2067\n",
      "Epoch 16/50\n",
      "60000/60000 [==============================] - 99s - loss: 0.2090 - val_loss: 0.2115\n",
      "Epoch 17/50\n",
      "60000/60000 [==============================] - 99s - loss: 0.2090 - val_loss: 0.2098\n",
      "Epoch 18/50\n",
      "60000/60000 [==============================] - 99s - loss: 0.2086 - val_loss: 0.2038\n",
      "Epoch 19/50\n",
      "60000/60000 [==============================] - 99s - loss: 0.2076 - val_loss: 0.2017\n",
      "Epoch 20/50\n",
      "60000/60000 [==============================] - 99s - loss: 0.2063 - val_loss: 0.2009\n",
      "Epoch 21/50\n",
      "60000/60000 [==============================] - 99s - loss: 0.2061 - val_loss: 0.2063\n",
      "Epoch 22/50\n",
      "60000/60000 [==============================] - 100s - loss: 0.2051 - val_loss: 0.1997\n",
      "Epoch 23/50\n",
      "60000/60000 [==============================] - 100s - loss: 0.2046 - val_loss: 0.2359\n",
      "Epoch 24/50\n",
      "60000/60000 [==============================] - 100s - loss: 0.2037 - val_loss: 0.1976\n",
      "Epoch 25/50\n",
      "60000/60000 [==============================] - 99s - loss: 0.2035 - val_loss: 0.2119\n",
      "Epoch 26/50\n",
      "60000/60000 [==============================] - 99s - loss: 0.2031 - val_loss: 0.2015\n",
      "Epoch 27/50\n",
      "60000/60000 [==============================] - 99s - loss: 0.2018 - val_loss: 0.2003\n",
      "Epoch 28/50\n",
      "60000/60000 [==============================] - 99s - loss: 0.2022 - val_loss: 0.2070\n",
      "Epoch 29/50\n",
      "60000/60000 [==============================] - 99s - loss: 0.2020 - val_loss: 0.2047\n",
      "Epoch 30/50\n",
      "60000/60000 [==============================] - 99s - loss: 0.2003 - val_loss: 0.1951\n",
      "Epoch 31/50\n",
      "60000/60000 [==============================] - 99s - loss: 0.2009 - val_loss: 0.1967\n",
      "Epoch 32/50\n",
      "60000/60000 [==============================] - 99s - loss: 0.2013 - val_loss: 0.1985\n",
      "Epoch 33/50\n",
      "60000/60000 [==============================] - 99s - loss: 0.1999 - val_loss: 0.1933\n",
      "Epoch 34/50\n",
      "60000/60000 [==============================] - 99s - loss: 0.2017 - val_loss: 0.2014\n",
      "Epoch 35/50\n",
      "60000/60000 [==============================] - 99s - loss: 0.2005 - val_loss: 0.2008\n",
      "Epoch 36/50\n",
      "60000/60000 [==============================] - 99s - loss: 0.1993 - val_loss: 0.1977\n",
      "Epoch 37/50\n",
      "60000/60000 [==============================] - 99s - loss: 0.1992 - val_loss: 0.2076\n",
      "Epoch 38/50\n",
      "60000/60000 [==============================] - 99s - loss: 0.1982 - val_loss: 0.1933\n",
      "Epoch 39/50\n",
      "60000/60000 [==============================] - 99s - loss: 0.1990 - val_loss: 0.1976\n",
      "Epoch 40/50\n",
      "60000/60000 [==============================] - 99s - loss: 0.2003 - val_loss: 0.2319\n",
      "Epoch 41/50\n",
      "60000/60000 [==============================] - 99s - loss: 0.1987 - val_loss: 0.1989\n",
      "Epoch 42/50\n",
      "60000/60000 [==============================] - 99s - loss: 0.1981 - val_loss: 0.2290\n",
      "Epoch 43/50\n",
      "60000/60000 [==============================] - 99s - loss: 0.2002 - val_loss: 0.2272\n",
      "Epoch 44/50\n",
      "60000/60000 [==============================] - 99s - loss: 0.1988 - val_loss: 0.1942\n",
      "Epoch 45/50\n",
      "60000/60000 [==============================] - 99s - loss: 0.2006 - val_loss: 0.1906s: \n",
      "Epoch 46/50\n",
      "60000/60000 [==============================] - 99s - loss: 0.1999 - val_loss: 0.1944\n",
      "Epoch 47/50\n",
      "60000/60000 [==============================] - 99s - loss: 0.2030 - val_loss: 0.2277\n",
      "Epoch 48/50\n",
      "60000/60000 [==============================] - 99s - loss: 0.2021 - val_loss: 0.1982\n",
      "Epoch 49/50\n",
      "60000/60000 [==============================] - 98s - loss: 0.2007 - val_loss: 0.2167\n",
      "Epoch 50/50\n",
      "60000/60000 [==============================] - 98s - loss: 0.1999 - val_loss: 0.1969\n"
     ]
    },
    {
     "data": {
      "text/plain": [
       "<keras.callbacks.History at 0x7f2d8aeef3c8>"
      ]
     },
     "execution_count": 11,
     "metadata": {},
     "output_type": "execute_result"
    }
   ],
   "source": [
    "callback_tensorboard = keras.callbacks.TensorBoard(log_dir='/tmp/autoencoder')\n",
    "    \n",
    "autoencoder.fit(x_train, x_train,\n",
    "                       epochs=50,\n",
    "                       batch_size=128,\n",
    "                       shuffle=True,\n",
    "                       validation_data=(x_test, x_test),\n",
    "                       callbacks=[callback_tensorboard])"
   ]
  },
  {
   "cell_type": "code",
   "execution_count": 5,
   "metadata": {},
   "outputs": [],
   "source": [
    "# テスト画像を変換\n",
    "decoded_imgs = autoencoder.predict(x_test)"
   ]
  },
  {
   "cell_type": "code",
   "execution_count": 13,
   "metadata": {},
   "outputs": [
    {
     "data": {
      "image/png": "[encoded data removed]",
      "text/plain": [
       "<matplotlib.figure.Figure at 0x7f2d7c8b1240>"
      ]
     },
     "metadata": {},
     "output_type": "display_data"
    }
   ],
   "source": [
    "import matplotlib.pyplot as plt\n",
    "%matplotlib inline\n",
    "\n",
    "# 何個表示するか\n",
    "n = 12\n",
    "plt.figure(figsize=(20, 4))\n",
    "for i in range(n):\n",
    "    # オリジナルのテスト画像を表示\n",
    "    ax = plt.subplot(2, n, i+1)\n",
    "    plt.imshow(x_test[i].reshape(28, 28))\n",
    "    plt.gray()\n",
    "    ax.get_xaxis().set_visible(False)\n",
    "    ax.get_yaxis().set_visible(False)\n",
    "\n",
    "    # 変換された画像を表示\n",
    "    ax = plt.subplot(2, n, i+1+n)\n",
    "    plt.imshow(decoded_imgs[i].reshape(28, 28))\n",
    "    plt.gray()\n",
    "    ax.get_xaxis().set_visible(False)\n",
    "    ax.get_yaxis().set_visible(False)\n",
    "plt.show()"
   ]
  },
  {
   "cell_type": "markdown",
   "metadata": {},
   "source": [
    "## 7. Denoising Autoencoder(DAE)"
   ]
  },
  {
   "cell_type": "markdown",
   "metadata": {},
   "source": [
    "### 7-1. Denoising Autoencoder とは\n",
    "\n",
    "Autoencoderでは、基本的に損失関数が<br>\n",
    "$L(x,g(f(x)))$ <br>\n",
    "という形をしていて、単純に入力と出力の違いがなるべく小さくなるように学習していくのでした。\n",
    "\n",
    "そして、Overcomplete Autoencoderというコード $h$ の次元が入力 $x$ の次元よりも大きいモデルでは、<br>\n",
    "単純に値をコピーすることで、入力と出力の違いをゼロにできてしまうという問題がありました。\n",
    "\n",
    "この問題を解決するために、Sparse Autoencoderでは $\\Omega(h)$ というペナルティ項を入れました。<br>\n",
    "ここでは別のアプローチを考えます。\n",
    "\n",
    "Denoising Autoencoder (DAE)では、<br>\n",
    "$L(x,g(f(\\tilde{x})))$<br>\n",
    "を最小化します。ここで、$\\tilde{x}$は<b>入力にノイズを加えたもの</b>を表します。\n",
    "\n",
    "<span style=\"color:red\">ノイズが加わった入力からオリジナルの入力を復元しない</span>といけないので、\n",
    "単純に値をコピーする<br>\n",
    "わけにはいかなくなります。<br>\n",
    "そのため、ノイズを除去するだけでなく、良い特徴を学習できるようになると考えられます。"
   ]
  },
  {
   "cell_type": "markdown",
   "metadata": {},
   "source": [
    "また、別の考え方として下図のような見方をすることもできます。\n",
    "\n",
    "<img src=\"03_autoencoder/denoising_map.png\">\n",
    "\n",
    "黒い線は、低次元に折りたたまれた $x$ の分布を表します。<br>\n",
    "赤い印は、それぞれの訓練データに対応します。<br>\n",
    "\n",
    "これらの訓練データにノイズを加える操作は、<br>\n",
    "灰色の線のように、$x$ の分布から少し外れた場所を考えることを意味します。\n",
    "\n",
    "緑の矢印は、ノイズが加わったデータ $\\tilde{x}$ を $x$ にマッピングする様子を表しています。<br>\n",
    "Denoising Autoencoderは、$\\tilde{x}$ から $x$ をうまく復元できるように学習していくため、<br>\n",
    "この緑の矢印を学習していると考えることもできるでしょう。"
   ]
  },
  {
   "cell_type": "markdown",
   "metadata": {},
   "source": [
    "### EarlyStopping Callback"
   ]
  },
  {
   "cell_type": "markdown",
   "metadata": {},
   "source": [
    "Kerasには過学習を防止するためのEarlyStopping Callbackが存在します。\n",
    "\n",
    "コールバック - Keras Documentation<br>\n",
    "https://keras.io/ja/callbacks/\n",
    "    \n",
    "使い方<br>\n",
    "使い方は簡単で、modelのfitメソッドのcallbackに渡すだけです。"
   ]
  },
  {
   "cell_type": "code",
   "execution_count": null,
   "metadata": {},
   "outputs": [],
   "source": [
    "from keras.callbacks import EarlyStopping\n",
    "model.fit(X_train, Y_train, callbacks=[EarlyStopping(), validation_split=0.25])"
   ]
  },
  {
   "cell_type": "markdown",
   "metadata": {},
   "source": [
    "### 7-2. Denoising Autoencoder の実装\n",
    "\n",
    "まず、正規分布のノイズを加え、0から1の間の値を取るようにクリップします。"
   ]
  },
  {
   "cell_type": "code",
   "execution_count": 14,
   "metadata": {},
   "outputs": [],
   "source": [
    "from keras.datasets import mnist\n",
    "import numpy as np\n",
    "from matplotlib import pylab as plt\n",
    "\n",
    "(x_train, _), (x_test, _) = mnist.load_data()\n",
    "\n",
    "x_train = x_train.astype('float32') / 255.\n",
    "x_test = x_test.astype('float32') / 255.\n",
    "x_train = np.reshape(x_train, (len(x_train), 28, 28, 1))  # adapt this if using `channels_first` image data format\n",
    "x_test = np.reshape(x_test, (len(x_test), 28, 28, 1))  # adapt this if using `channels_first` image data format\n",
    "\n",
    "noise_factor = 0.5\n",
    "x_train_noisy = x_train + noise_factor * np.random.normal(loc=0.0, scale=1.0, size=x_train.shape) \n",
    "x_test_noisy = x\n",
    "_test + noise_factor * np.random.normal(loc=0.0, scale=1.0, size=x_test.shape) \n",
    "\n",
    "# numpy.clip\n",
    "#    https://docs.scipy.org/doc/numpy-1.13.0/reference/generated/numpy.clip.html\n",
    "x_train_noisy = np.clip(x_train_noisy, 0., 1.)\n",
    "x_test_noisy = np.clip(x_test_noisy, 0., 1.)"
   ]
  },
  {
   "cell_type": "code",
   "execution_count": 15,
   "metadata": {},
   "outputs": [
    {
     "data": {
      "image/png": "[encoded data removed]",
      "text/plain": [
       "<matplotlib.figure.Figure at 0x7f2d5e584dd8>"
      ]
     },
     "metadata": {},
     "output_type": "display_data"
    }
   ],
   "source": [
    "n = 10\n",
    "plt.figure(figsize=(20, 2))\n",
    "for i in range(n):\n",
    "    ax = plt.subplot(1, n, i+1)\n",
    "    plt.imshow(x_test_noisy[i].reshape(28, 28))\n",
    "    plt.gray()\n",
    "    ax.get_xaxis().set_visible(False)\n",
    "    ax.get_yaxis().set_visible(False)\n",
    "plt.show()"
   ]
  },
  {
   "cell_type": "code",
   "execution_count": 16,
   "metadata": {},
   "outputs": [],
   "source": [
    "input_img = Input(shape=(28, 28, 1))  # adapt this if using `channels_first` image data format\n",
    "\n",
    "x = Conv2D(32, (3, 3), activation='relu', padding='same')(input_img)\n",
    "x = MaxPooling2D((2, 2), padding='same')(x)\n",
    "x = Conv2D(32, (3, 3), activation='relu', padding='same')(x)\n",
    "encoded = MaxPooling2D((2, 2), padding='same')(x)\n",
    "\n",
    "# at this point the representation is (7, 7, 32)\n",
    "\n",
    "x = Conv2D(32, (3, 3), activation='relu', padding='same')(encoded)\n",
    "x = UpSampling2D((2, 2))(x)\n",
    "x = Conv2D(32, (3, 3), activation='relu', padding='same')(x)\n",
    "x = UpSampling2D((2, 2))(x)\n",
    "decoded = Conv2D(1, (3, 3), activation='sigmoid', padding='same')(x)\n",
    "\n",
    "autoencoder = Model(input_img, decoded)\n",
    "autoencoder.compile(optimizer='adadelta', loss='binary_crossentropy')"
   ]
  },
  {
   "cell_type": "code",
   "execution_count": 19,
   "metadata": {},
   "outputs": [
    {
     "name": "stdout",
     "output_type": "stream",
     "text": [
      "Train on 60000 samples, validate on 10000 samples\n",
      "Epoch 1/100\n",
      "60000/60000 [==============================] - 224s - loss: 0.1864 - val_loss: 0.1748\n",
      "Epoch 2/100\n",
      "60000/60000 [==============================] - 224s - loss: 0.1846 - val_loss: 0.3070\n",
      "Epoch 3/100\n",
      "60000/60000 [==============================] - 224s - loss: 0.1840 - val_loss: 0.1731\n",
      "Epoch 4/100\n",
      "60000/60000 [==============================] - 224s - loss: 0.1877 - val_loss: 0.1894\n",
      "Epoch 5/100\n",
      "60000/60000 [==============================] - 224s - loss: 0.1871 - val_loss: 0.1859\n",
      "Epoch 6/100\n",
      "60000/60000 [==============================] - 224s - loss: 0.1903 - val_loss: 0.1657\n",
      "Epoch 7/100\n",
      "60000/60000 [==============================] - 224s - loss: 0.1839 - val_loss: 0.1825\n",
      "Epoch 8/100\n",
      "60000/60000 [==============================] - 224s - loss: 0.1867 - val_loss: 0.1800\n",
      "Epoch 9/100\n",
      "60000/60000 [==============================] - 224s - loss: 0.1876 - val_loss: 0.1724\n"
     ]
    },
    {
     "data": {
      "text/plain": [
       "<keras.callbacks.History at 0x7f2d5e8aac88>"
      ]
     },
     "execution_count": 19,
     "metadata": {},
     "output_type": "execute_result"
    }
   ],
   "source": [
    "# callback - TensorBoard\n",
    "callback_tensorboard = keras.callbacks.TensorBoard(log_dir='/tmp/autoencoder7',\n",
    "                                                   histogram_freq=0, write_graph=False)\n",
    "# callback - EarlyStopping\n",
    "from keras.callbacks import EarlyStopping\n",
    "callback_earlystop = EarlyStopping(monitor='val_loss', patience=2)\n",
    "\n",
    "autoencoder.fit(x_train_noisy, x_train,\n",
    "                epochs=100,\n",
    "                batch_size=128,\n",
    "                shuffle=True,\n",
    "                validation_data=(x_test_noisy, x_test),\n",
    "                callbacks=[callback_earlystop, callback_tensorboard])"
   ]
  },
  {
   "cell_type": "code",
   "execution_count": 20,
   "metadata": {},
   "outputs": [
    {
     "data": {
      "image/png": "[encoded data removed]",
      "text/plain": [
       "<matplotlib.figure.Figure at 0x7f2d5e8b3f60>"
      ]
     },
     "metadata": {},
     "output_type": "display_data"
    }
   ],
   "source": [
    "import matplotlib.pyplot as plt\n",
    "%matplotlib inline\n",
    "\n",
    "# 何個表示するか\n",
    "n = 12\n",
    "plt.figure(figsize=(20, 4))\n",
    "for i in range(n):\n",
    "    # オリジナルのテスト画像を表示\n",
    "    ax = plt.subplot(2, n, i+1)\n",
    "    plt.imshow(x_test[i].reshape(28, 28))\n",
    "    plt.gray()\n",
    "    ax.get_xaxis().set_visible(False)\n",
    "    ax.get_yaxis().set_visible(False)\n",
    "\n",
    "    # 変換された画像を表示\n",
    "    ax = plt.subplot(2, n, i+1+n)\n",
    "    plt.imshow(decoded_imgs[i].reshape(28, 28))\n",
    "    plt.gray()\n",
    "    ax.get_xaxis().set_visible(False)\n",
    "    ax.get_yaxis().set_visible(False)\n",
    "plt.show()"
   ]
  },
  {
   "cell_type": "markdown",
   "metadata": {},
   "source": [
    "## 参考文献"
   ]
  },
  {
   "cell_type": "markdown",
   "metadata": {},
   "source": [
    "Building Autoencoders in Keras<br>\n",
    "https://blog.keras.io/building-autoencoders-in-keras.html\n",
    "\n",
    "Kerasで学ぶAutoencoder<br>\n",
    "https://elix-tech.github.io/ja/2016/07/17/autoencoder.html\n",
    "\n",
    "AutoEncoderで特徴抽出<br>\n",
    "https://www.slideshare.net/lewuathe/auto-encoder-v2\n",
    "\n",
    "Chainer で Stacked Auto-Encoder を試してみた<br>\n",
    "http://wazalabo.com/chainer-stacked-auto-encoder.html\n"
   ]
  },
  {
   "cell_type": "code",
   "execution_count": null,
   "metadata": {},
   "outputs": [],
   "source": []
  }
 ],
 "metadata": {
  "kernelspec": {
   "display_name": "Python 3",
   "language": "python",
   "name": "python3"
  },
  "language_info": {
   "codemirror_mode": {
    "name": "ipython",
    "version": 3
   },
   "file_extension": ".py",
   "mimetype": "text/x-python",
   "name": "python",
   "nbconvert_exporter": "python",
   "pygments_lexer": "ipython3",
   "version": "3.6.2"
  }
 },
 "nbformat": 4,
 "nbformat_minor": 2
}
